{
 "cells": [
  {
   "cell_type": "code",
   "execution_count": 1,
   "metadata": {
    "extensions": {
     "jupyter_dashboards": {
      "version": 1,
      "views": {
       "grid_default": {
        "col": 0,
        "height": 4,
        "hidden": true,
        "row": 0,
        "width": 4
       },
       "report_default": {}
      }
     }
    }
   },
   "outputs": [
    {
     "data": {
      "text/html": [
       "\n",
       "    <div class=\"bk-root\">\n",
       "        <a href=\"https://bokeh.pydata.org\" target=\"_blank\" class=\"bk-logo bk-logo-small bk-logo-notebook\"></a>\n",
       "        <span id=\"1001\">Loading BokehJS ...</span>\n",
       "    </div>"
      ]
     },
     "metadata": {},
     "output_type": "display_data"
    },
    {
     "data": {
      "application/javascript": [
       "\n",
       "(function(root) {\n",
       "  function now() {\n",
       "    return new Date();\n",
       "  }\n",
       "\n",
       "  var force = true;\n",
       "\n",
       "  if (typeof (root._bokeh_onload_callbacks) === \"undefined\" || force === true) {\n",
       "    root._bokeh_onload_callbacks = [];\n",
       "    root._bokeh_is_loading = undefined;\n",
       "  }\n",
       "\n",
       "  var JS_MIME_TYPE = 'application/javascript';\n",
       "  var HTML_MIME_TYPE = 'text/html';\n",
       "  var EXEC_MIME_TYPE = 'application/vnd.bokehjs_exec.v0+json';\n",
       "  var CLASS_NAME = 'output_bokeh rendered_html';\n",
       "\n",
       "  /**\n",
       "   * Render data to the DOM node\n",
       "   */\n",
       "  function render(props, node) {\n",
       "    var script = document.createElement(\"script\");\n",
       "    node.appendChild(script);\n",
       "  }\n",
       "\n",
       "  /**\n",
       "   * Handle when an output is cleared or removed\n",
       "   */\n",
       "  function handleClearOutput(event, handle) {\n",
       "    var cell = handle.cell;\n",
       "\n",
       "    var id = cell.output_area._bokeh_element_id;\n",
       "    var server_id = cell.output_area._bokeh_server_id;\n",
       "    // Clean up Bokeh references\n",
       "    if (id != null && id in Bokeh.index) {\n",
       "      Bokeh.index[id].model.document.clear();\n",
       "      delete Bokeh.index[id];\n",
       "    }\n",
       "\n",
       "    if (server_id !== undefined) {\n",
       "      // Clean up Bokeh references\n",
       "      var cmd = \"from bokeh.io.state import curstate; print(curstate().uuid_to_server['\" + server_id + \"'].get_sessions()[0].document.roots[0]._id)\";\n",
       "      cell.notebook.kernel.execute(cmd, {\n",
       "        iopub: {\n",
       "          output: function(msg) {\n",
       "            var id = msg.content.text.trim();\n",
       "            if (id in Bokeh.index) {\n",
       "              Bokeh.index[id].model.document.clear();\n",
       "              delete Bokeh.index[id];\n",
       "            }\n",
       "          }\n",
       "        }\n",
       "      });\n",
       "      // Destroy server and session\n",
       "      var cmd = \"import bokeh.io.notebook as ion; ion.destroy_server('\" + server_id + \"')\";\n",
       "      cell.notebook.kernel.execute(cmd);\n",
       "    }\n",
       "  }\n",
       "\n",
       "  /**\n",
       "   * Handle when a new output is added\n",
       "   */\n",
       "  function handleAddOutput(event, handle) {\n",
       "    var output_area = handle.output_area;\n",
       "    var output = handle.output;\n",
       "\n",
       "    // limit handleAddOutput to display_data with EXEC_MIME_TYPE content only\n",
       "    if ((output.output_type != \"display_data\") || (!output.data.hasOwnProperty(EXEC_MIME_TYPE))) {\n",
       "      return\n",
       "    }\n",
       "\n",
       "    var toinsert = output_area.element.find(\".\" + CLASS_NAME.split(' ')[0]);\n",
       "\n",
       "    if (output.metadata[EXEC_MIME_TYPE][\"id\"] !== undefined) {\n",
       "      toinsert[toinsert.length - 1].firstChild.textContent = output.data[JS_MIME_TYPE];\n",
       "      // store reference to embed id on output_area\n",
       "      output_area._bokeh_element_id = output.metadata[EXEC_MIME_TYPE][\"id\"];\n",
       "    }\n",
       "    if (output.metadata[EXEC_MIME_TYPE][\"server_id\"] !== undefined) {\n",
       "      var bk_div = document.createElement(\"div\");\n",
       "      bk_div.innerHTML = output.data[HTML_MIME_TYPE];\n",
       "      var script_attrs = bk_div.children[0].attributes;\n",
       "      for (var i = 0; i < script_attrs.length; i++) {\n",
       "        toinsert[toinsert.length - 1].firstChild.setAttribute(script_attrs[i].name, script_attrs[i].value);\n",
       "      }\n",
       "      // store reference to server id on output_area\n",
       "      output_area._bokeh_server_id = output.metadata[EXEC_MIME_TYPE][\"server_id\"];\n",
       "    }\n",
       "  }\n",
       "\n",
       "  function register_renderer(events, OutputArea) {\n",
       "\n",
       "    function append_mime(data, metadata, element) {\n",
       "      // create a DOM node to render to\n",
       "      var toinsert = this.create_output_subarea(\n",
       "        metadata,\n",
       "        CLASS_NAME,\n",
       "        EXEC_MIME_TYPE\n",
       "      );\n",
       "      this.keyboard_manager.register_events(toinsert);\n",
       "      // Render to node\n",
       "      var props = {data: data, metadata: metadata[EXEC_MIME_TYPE]};\n",
       "      render(props, toinsert[toinsert.length - 1]);\n",
       "      element.append(toinsert);\n",
       "      return toinsert\n",
       "    }\n",
       "\n",
       "    /* Handle when an output is cleared or removed */\n",
       "    events.on('clear_output.CodeCell', handleClearOutput);\n",
       "    events.on('delete.Cell', handleClearOutput);\n",
       "\n",
       "    /* Handle when a new output is added */\n",
       "    events.on('output_added.OutputArea', handleAddOutput);\n",
       "\n",
       "    /**\n",
       "     * Register the mime type and append_mime function with output_area\n",
       "     */\n",
       "    OutputArea.prototype.register_mime_type(EXEC_MIME_TYPE, append_mime, {\n",
       "      /* Is output safe? */\n",
       "      safe: true,\n",
       "      /* Index of renderer in `output_area.display_order` */\n",
       "      index: 0\n",
       "    });\n",
       "  }\n",
       "\n",
       "  // register the mime type if in Jupyter Notebook environment and previously unregistered\n",
       "  if (root.Jupyter !== undefined) {\n",
       "    var events = require('base/js/events');\n",
       "    var OutputArea = require('notebook/js/outputarea').OutputArea;\n",
       "\n",
       "    if (OutputArea.prototype.mime_types().indexOf(EXEC_MIME_TYPE) == -1) {\n",
       "      register_renderer(events, OutputArea);\n",
       "    }\n",
       "  }\n",
       "\n",
       "  \n",
       "  if (typeof (root._bokeh_timeout) === \"undefined\" || force === true) {\n",
       "    root._bokeh_timeout = Date.now() + 5000;\n",
       "    root._bokeh_failed_load = false;\n",
       "  }\n",
       "\n",
       "  var NB_LOAD_WARNING = {'data': {'text/html':\n",
       "     \"<div style='background-color: #fdd'>\\n\"+\n",
       "     \"<p>\\n\"+\n",
       "     \"BokehJS does not appear to have successfully loaded. If loading BokehJS from CDN, this \\n\"+\n",
       "     \"may be due to a slow or bad network connection. Possible fixes:\\n\"+\n",
       "     \"</p>\\n\"+\n",
       "     \"<ul>\\n\"+\n",
       "     \"<li>re-rerun `output_notebook()` to attempt to load from CDN again, or</li>\\n\"+\n",
       "     \"<li>use INLINE resources instead, as so:</li>\\n\"+\n",
       "     \"</ul>\\n\"+\n",
       "     \"<code>\\n\"+\n",
       "     \"from bokeh.resources import INLINE\\n\"+\n",
       "     \"output_notebook(resources=INLINE)\\n\"+\n",
       "     \"</code>\\n\"+\n",
       "     \"</div>\"}};\n",
       "\n",
       "  function display_loaded() {\n",
       "    var el = document.getElementById(\"1001\");\n",
       "    if (el != null) {\n",
       "      el.textContent = \"BokehJS is loading...\";\n",
       "    }\n",
       "    if (root.Bokeh !== undefined) {\n",
       "      if (el != null) {\n",
       "        el.textContent = \"BokehJS \" + root.Bokeh.version + \" successfully loaded.\";\n",
       "      }\n",
       "    } else if (Date.now() < root._bokeh_timeout) {\n",
       "      setTimeout(display_loaded, 100)\n",
       "    }\n",
       "  }\n",
       "\n",
       "\n",
       "  function run_callbacks() {\n",
       "    try {\n",
       "      root._bokeh_onload_callbacks.forEach(function(callback) { callback() });\n",
       "    }\n",
       "    finally {\n",
       "      delete root._bokeh_onload_callbacks\n",
       "    }\n",
       "    console.info(\"Bokeh: all callbacks have finished\");\n",
       "  }\n",
       "\n",
       "  function load_libs(js_urls, callback) {\n",
       "    root._bokeh_onload_callbacks.push(callback);\n",
       "    if (root._bokeh_is_loading > 0) {\n",
       "      console.log(\"Bokeh: BokehJS is being loaded, scheduling callback at\", now());\n",
       "      return null;\n",
       "    }\n",
       "    if (js_urls == null || js_urls.length === 0) {\n",
       "      run_callbacks();\n",
       "      return null;\n",
       "    }\n",
       "    console.log(\"Bokeh: BokehJS not loaded, scheduling load and callback at\", now());\n",
       "    root._bokeh_is_loading = js_urls.length;\n",
       "    for (var i = 0; i < js_urls.length; i++) {\n",
       "      var url = js_urls[i];\n",
       "      var s = document.createElement('script');\n",
       "      s.src = url;\n",
       "      s.async = false;\n",
       "      s.onreadystatechange = s.onload = function() {\n",
       "        root._bokeh_is_loading--;\n",
       "        if (root._bokeh_is_loading === 0) {\n",
       "          console.log(\"Bokeh: all BokehJS libraries loaded\");\n",
       "          run_callbacks()\n",
       "        }\n",
       "      };\n",
       "      s.onerror = function() {\n",
       "        console.warn(\"failed to load library \" + url);\n",
       "      };\n",
       "      console.log(\"Bokeh: injecting script tag for BokehJS library: \", url);\n",
       "      document.getElementsByTagName(\"head\")[0].appendChild(s);\n",
       "    }\n",
       "  };var element = document.getElementById(\"1001\");\n",
       "  if (element == null) {\n",
       "    console.log(\"Bokeh: ERROR: autoload.js configured with elementid '1001' but no matching script tag was found. \")\n",
       "    return false;\n",
       "  }\n",
       "\n",
       "  var js_urls = [\"https://cdn.pydata.org/bokeh/release/bokeh-1.0.2.min.js\", \"https://cdn.pydata.org/bokeh/release/bokeh-widgets-1.0.2.min.js\", \"https://cdn.pydata.org/bokeh/release/bokeh-tables-1.0.2.min.js\", \"https://cdn.pydata.org/bokeh/release/bokeh-gl-1.0.2.min.js\"];\n",
       "\n",
       "  var inline_js = [\n",
       "    function(Bokeh) {\n",
       "      Bokeh.set_log_level(\"info\");\n",
       "    },\n",
       "    \n",
       "    function(Bokeh) {\n",
       "      \n",
       "    },\n",
       "    function(Bokeh) {\n",
       "      console.log(\"Bokeh: injecting CSS: https://cdn.pydata.org/bokeh/release/bokeh-1.0.2.min.css\");\n",
       "      Bokeh.embed.inject_css(\"https://cdn.pydata.org/bokeh/release/bokeh-1.0.2.min.css\");\n",
       "      console.log(\"Bokeh: injecting CSS: https://cdn.pydata.org/bokeh/release/bokeh-widgets-1.0.2.min.css\");\n",
       "      Bokeh.embed.inject_css(\"https://cdn.pydata.org/bokeh/release/bokeh-widgets-1.0.2.min.css\");\n",
       "      console.log(\"Bokeh: injecting CSS: https://cdn.pydata.org/bokeh/release/bokeh-tables-1.0.2.min.css\");\n",
       "      Bokeh.embed.inject_css(\"https://cdn.pydata.org/bokeh/release/bokeh-tables-1.0.2.min.css\");\n",
       "    }\n",
       "  ];\n",
       "\n",
       "  function run_inline_js() {\n",
       "    \n",
       "    if ((root.Bokeh !== undefined) || (force === true)) {\n",
       "      for (var i = 0; i < inline_js.length; i++) {\n",
       "        inline_js[i].call(root, root.Bokeh);\n",
       "      }if (force === true) {\n",
       "        display_loaded();\n",
       "      }} else if (Date.now() < root._bokeh_timeout) {\n",
       "      setTimeout(run_inline_js, 100);\n",
       "    } else if (!root._bokeh_failed_load) {\n",
       "      console.log(\"Bokeh: BokehJS failed to load within specified timeout.\");\n",
       "      root._bokeh_failed_load = true;\n",
       "    } else if (force !== true) {\n",
       "      var cell = $(document.getElementById(\"1001\")).parents('.cell').data().cell;\n",
       "      cell.output_area.append_execute_result(NB_LOAD_WARNING)\n",
       "    }\n",
       "\n",
       "  }\n",
       "\n",
       "  if (root._bokeh_is_loading === 0) {\n",
       "    console.log(\"Bokeh: BokehJS loaded, going straight to plotting\");\n",
       "    run_inline_js();\n",
       "  } else {\n",
       "    load_libs(js_urls, function() {\n",
       "      console.log(\"Bokeh: BokehJS plotting callback run at\", now());\n",
       "      run_inline_js();\n",
       "    });\n",
       "  }\n",
       "}(window));"
      ],
      "application/vnd.bokehjs_load.v0+json": "\n(function(root) {\n  function now() {\n    return new Date();\n  }\n\n  var force = true;\n\n  if (typeof (root._bokeh_onload_callbacks) === \"undefined\" || force === true) {\n    root._bokeh_onload_callbacks = [];\n    root._bokeh_is_loading = undefined;\n  }\n\n  \n\n  \n  if (typeof (root._bokeh_timeout) === \"undefined\" || force === true) {\n    root._bokeh_timeout = Date.now() + 5000;\n    root._bokeh_failed_load = false;\n  }\n\n  var NB_LOAD_WARNING = {'data': {'text/html':\n     \"<div style='background-color: #fdd'>\\n\"+\n     \"<p>\\n\"+\n     \"BokehJS does not appear to have successfully loaded. If loading BokehJS from CDN, this \\n\"+\n     \"may be due to a slow or bad network connection. Possible fixes:\\n\"+\n     \"</p>\\n\"+\n     \"<ul>\\n\"+\n     \"<li>re-rerun `output_notebook()` to attempt to load from CDN again, or</li>\\n\"+\n     \"<li>use INLINE resources instead, as so:</li>\\n\"+\n     \"</ul>\\n\"+\n     \"<code>\\n\"+\n     \"from bokeh.resources import INLINE\\n\"+\n     \"output_notebook(resources=INLINE)\\n\"+\n     \"</code>\\n\"+\n     \"</div>\"}};\n\n  function display_loaded() {\n    var el = document.getElementById(\"1001\");\n    if (el != null) {\n      el.textContent = \"BokehJS is loading...\";\n    }\n    if (root.Bokeh !== undefined) {\n      if (el != null) {\n        el.textContent = \"BokehJS \" + root.Bokeh.version + \" successfully loaded.\";\n      }\n    } else if (Date.now() < root._bokeh_timeout) {\n      setTimeout(display_loaded, 100)\n    }\n  }\n\n\n  function run_callbacks() {\n    try {\n      root._bokeh_onload_callbacks.forEach(function(callback) { callback() });\n    }\n    finally {\n      delete root._bokeh_onload_callbacks\n    }\n    console.info(\"Bokeh: all callbacks have finished\");\n  }\n\n  function load_libs(js_urls, callback) {\n    root._bokeh_onload_callbacks.push(callback);\n    if (root._bokeh_is_loading > 0) {\n      console.log(\"Bokeh: BokehJS is being loaded, scheduling callback at\", now());\n      return null;\n    }\n    if (js_urls == null || js_urls.length === 0) {\n      run_callbacks();\n      return null;\n    }\n    console.log(\"Bokeh: BokehJS not loaded, scheduling load and callback at\", now());\n    root._bokeh_is_loading = js_urls.length;\n    for (var i = 0; i < js_urls.length; i++) {\n      var url = js_urls[i];\n      var s = document.createElement('script');\n      s.src = url;\n      s.async = false;\n      s.onreadystatechange = s.onload = function() {\n        root._bokeh_is_loading--;\n        if (root._bokeh_is_loading === 0) {\n          console.log(\"Bokeh: all BokehJS libraries loaded\");\n          run_callbacks()\n        }\n      };\n      s.onerror = function() {\n        console.warn(\"failed to load library \" + url);\n      };\n      console.log(\"Bokeh: injecting script tag for BokehJS library: \", url);\n      document.getElementsByTagName(\"head\")[0].appendChild(s);\n    }\n  };var element = document.getElementById(\"1001\");\n  if (element == null) {\n    console.log(\"Bokeh: ERROR: autoload.js configured with elementid '1001' but no matching script tag was found. \")\n    return false;\n  }\n\n  var js_urls = [\"https://cdn.pydata.org/bokeh/release/bokeh-1.0.2.min.js\", \"https://cdn.pydata.org/bokeh/release/bokeh-widgets-1.0.2.min.js\", \"https://cdn.pydata.org/bokeh/release/bokeh-tables-1.0.2.min.js\", \"https://cdn.pydata.org/bokeh/release/bokeh-gl-1.0.2.min.js\"];\n\n  var inline_js = [\n    function(Bokeh) {\n      Bokeh.set_log_level(\"info\");\n    },\n    \n    function(Bokeh) {\n      \n    },\n    function(Bokeh) {\n      console.log(\"Bokeh: injecting CSS: https://cdn.pydata.org/bokeh/release/bokeh-1.0.2.min.css\");\n      Bokeh.embed.inject_css(\"https://cdn.pydata.org/bokeh/release/bokeh-1.0.2.min.css\");\n      console.log(\"Bokeh: injecting CSS: https://cdn.pydata.org/bokeh/release/bokeh-widgets-1.0.2.min.css\");\n      Bokeh.embed.inject_css(\"https://cdn.pydata.org/bokeh/release/bokeh-widgets-1.0.2.min.css\");\n      console.log(\"Bokeh: injecting CSS: https://cdn.pydata.org/bokeh/release/bokeh-tables-1.0.2.min.css\");\n      Bokeh.embed.inject_css(\"https://cdn.pydata.org/bokeh/release/bokeh-tables-1.0.2.min.css\");\n    }\n  ];\n\n  function run_inline_js() {\n    \n    if ((root.Bokeh !== undefined) || (force === true)) {\n      for (var i = 0; i < inline_js.length; i++) {\n        inline_js[i].call(root, root.Bokeh);\n      }if (force === true) {\n        display_loaded();\n      }} else if (Date.now() < root._bokeh_timeout) {\n      setTimeout(run_inline_js, 100);\n    } else if (!root._bokeh_failed_load) {\n      console.log(\"Bokeh: BokehJS failed to load within specified timeout.\");\n      root._bokeh_failed_load = true;\n    } else if (force !== true) {\n      var cell = $(document.getElementById(\"1001\")).parents('.cell').data().cell;\n      cell.output_area.append_execute_result(NB_LOAD_WARNING)\n    }\n\n  }\n\n  if (root._bokeh_is_loading === 0) {\n    console.log(\"Bokeh: BokehJS loaded, going straight to plotting\");\n    run_inline_js();\n  } else {\n    load_libs(js_urls, function() {\n      console.log(\"Bokeh: BokehJS plotting callback run at\", now());\n      run_inline_js();\n    });\n  }\n}(window));"
     },
     "metadata": {},
     "output_type": "display_data"
    }
   ],
   "source": [
    "import numpy as np\n",
    "import pandas as pd\n",
    "import json\n",
    "from ipywidgets import interact\n",
    "from bokeh.plotting import figure, show, ColumnDataSource\n",
    "from bokeh.io import push_notebook, show, output_notebook\n",
    "from bokeh.plotting import figure\n",
    "output_notebook()"
   ]
  },
  {
   "cell_type": "code",
   "execution_count": 2,
   "metadata": {
    "extensions": {
     "jupyter_dashboards": {
      "version": 1,
      "views": {
       "grid_default": {
        "hidden": true
       },
       "report_default": {}
      }
     }
    }
   },
   "outputs": [],
   "source": [
    "#your_local_path=\"F:/Study/Dashboard/Coffee/\""
   ]
  },
  {
   "cell_type": "code",
   "execution_count": 3,
   "metadata": {},
   "outputs": [],
   "source": [
    "with open('Cafe.json') as f:\n",
    "    i=1\n",
    "    for line in f:\n",
    "        coffee = pd.DataFrame(json.loads(line))\n",
    "        "
   ]
  },
  {
   "cell_type": "code",
   "execution_count": 4,
   "metadata": {
    "extensions": {
     "jupyter_dashboards": {
      "version": 1,
      "views": {
       "grid_default": {
        "hidden": true
       },
       "report_default": {}
      }
     }
    }
   },
   "outputs": [],
   "source": [
    "# coffee = pd.read_json('Cafe1.json')\n",
    "#coffee = coffee.sample(n=1000)\n",
    "#coffee.reset_index(drop=True)"
   ]
  },
  {
   "cell_type": "code",
   "execution_count": 5,
   "metadata": {
    "extensions": {
     "jupyter_dashboards": {
      "version": 1,
      "views": {
       "grid_default": {
        "hidden": true
       },
       "report_default": {}
      }
     }
    }
   },
   "outputs": [
    {
     "data": {
      "text/html": [
       "<div>\n",
       "<style scoped>\n",
       "    .dataframe tbody tr th:only-of-type {\n",
       "        vertical-align: middle;\n",
       "    }\n",
       "\n",
       "    .dataframe tbody tr th {\n",
       "        vertical-align: top;\n",
       "    }\n",
       "\n",
       "    .dataframe thead th {\n",
       "        text-align: right;\n",
       "    }\n",
       "</style>\n",
       "<table border=\"1\" class=\"dataframe\">\n",
       "  <thead>\n",
       "    <tr style=\"text-align: right;\">\n",
       "      <th></th>\n",
       "      <th>2013:10</th>\n",
       "      <th>2013:11</th>\n",
       "      <th>2013:12</th>\n",
       "      <th>2013:9</th>\n",
       "      <th>2014:1</th>\n",
       "      <th>2014:10</th>\n",
       "      <th>2014:11</th>\n",
       "      <th>2014:12</th>\n",
       "      <th>2014:2</th>\n",
       "      <th>2014:3</th>\n",
       "      <th>...</th>\n",
       "      <th>2016:8</th>\n",
       "      <th>2016:9</th>\n",
       "      <th>2017:1</th>\n",
       "      <th>2017:2</th>\n",
       "      <th>2017:3</th>\n",
       "      <th>2017:4</th>\n",
       "      <th>2017:5</th>\n",
       "      <th>2017:6</th>\n",
       "      <th>2017:7</th>\n",
       "      <th>2017:8</th>\n",
       "    </tr>\n",
       "  </thead>\n",
       "  <tbody>\n",
       "    <tr>\n",
       "      <th>0</th>\n",
       "      <td>{'NoOfEmployees': 12.0, 'CostIncurredAtStore':...</td>\n",
       "      <td>{'NoOfEmployees': 13.0, 'CostIncurredAtStore':...</td>\n",
       "      <td>{'NoOfEmployees': 14.0, 'CostIncurredAtStore':...</td>\n",
       "      <td>{'NoOfEmployees': 11.0, 'CostIncurredAtStore':...</td>\n",
       "      <td>{'NoOfEmployees': 15.0, 'CostIncurredAtStore':...</td>\n",
       "      <td>{'NoOfEmployees': 31.0, 'CostIncurredAtStore':...</td>\n",
       "      <td>{'NoOfEmployees': 32.0, 'CostIncurredAtStore':...</td>\n",
       "      <td>{'NoOfEmployees': 34.0, 'CostIncurredAtStore':...</td>\n",
       "      <td>{'NoOfEmployees': 16.0, 'CostIncurredAtStore':...</td>\n",
       "      <td>{'NoOfEmployees': 17.0, 'CostIncurredAtStore':...</td>\n",
       "      <td>...</td>\n",
       "      <td>{'NoOfEmployees': 114.0, 'CostIncurredAtStore'...</td>\n",
       "      <td>{'NoOfEmployees': 122.0, 'CostIncurredAtStore'...</td>\n",
       "      <td>{'NoOfEmployees': 146.0, 'CostIncurredAtStore'...</td>\n",
       "      <td>{'NoOfEmployees': 157.0, 'CostIncurredAtStore'...</td>\n",
       "      <td>{'NoOfEmployees': 170.0, 'CostIncurredAtStore'...</td>\n",
       "      <td>{'NoOfEmployees': 176.0, 'CostIncurredAtStore'...</td>\n",
       "      <td>{'NoOfEmployees': 190.0, 'CostIncurredAtStore'...</td>\n",
       "      <td>{'NoOfEmployees': 206.0, 'CostIncurredAtStore'...</td>\n",
       "      <td>{'NoOfEmployees': 215.0, 'CostIncurredAtStore'...</td>\n",
       "      <td>{'NoOfEmployees': 222.0, 'CostIncurredAtStore'...</td>\n",
       "    </tr>\n",
       "    <tr>\n",
       "      <th>1</th>\n",
       "      <td>{'NoOfEmployees': 12.0, 'CostIncurredAtStore':...</td>\n",
       "      <td>{'NoOfEmployees': 13.0, 'CostIncurredAtStore':...</td>\n",
       "      <td>{'NoOfEmployees': 14.0, 'CostIncurredAtStore':...</td>\n",
       "      <td>{'NoOfEmployees': 11.0, 'CostIncurredAtStore':...</td>\n",
       "      <td>{'NoOfEmployees': 15.0, 'CostIncurredAtStore':...</td>\n",
       "      <td>{'NoOfEmployees': 30.0, 'CostIncurredAtStore':...</td>\n",
       "      <td>{'NoOfEmployees': 31.0, 'CostIncurredAtStore':...</td>\n",
       "      <td>{'NoOfEmployees': 34.0, 'CostIncurredAtStore':...</td>\n",
       "      <td>{'NoOfEmployees': 17.0, 'CostIncurredAtStore':...</td>\n",
       "      <td>{'NoOfEmployees': 18.0, 'CostIncurredAtStore':...</td>\n",
       "      <td>...</td>\n",
       "      <td>{'NoOfEmployees': 147.0, 'CostIncurredAtStore'...</td>\n",
       "      <td>{'NoOfEmployees': 160.0, 'CostIncurredAtStore'...</td>\n",
       "      <td>{'NoOfEmployees': 212.0, 'CostIncurredAtStore'...</td>\n",
       "      <td>{'NoOfEmployees': 223.0, 'CostIncurredAtStore'...</td>\n",
       "      <td>{'NoOfEmployees': 239.0, 'CostIncurredAtStore'...</td>\n",
       "      <td>{'NoOfEmployees': 257.0, 'CostIncurredAtStore'...</td>\n",
       "      <td>{'NoOfEmployees': 268.0, 'CostIncurredAtStore'...</td>\n",
       "      <td>{'NoOfEmployees': 293.0, 'CostIncurredAtStore'...</td>\n",
       "      <td>{'NoOfEmployees': 304.0, 'CostIncurredAtStore'...</td>\n",
       "      <td>{'NoOfEmployees': 317.0, 'CostIncurredAtStore'...</td>\n",
       "    </tr>\n",
       "    <tr>\n",
       "      <th>2</th>\n",
       "      <td>{'NoOfEmployees': 12.0, 'CostIncurredAtStore':...</td>\n",
       "      <td>{'NoOfEmployees': 13.0, 'CostIncurredAtStore':...</td>\n",
       "      <td>{'NoOfEmployees': 14.0, 'CostIncurredAtStore':...</td>\n",
       "      <td>{'NoOfEmployees': 11.0, 'CostIncurredAtStore':...</td>\n",
       "      <td>{'NoOfEmployees': 15.0, 'CostIncurredAtStore':...</td>\n",
       "      <td>{'NoOfEmployees': 28.0, 'CostIncurredAtStore':...</td>\n",
       "      <td>{'NoOfEmployees': 30.0, 'CostIncurredAtStore':...</td>\n",
       "      <td>{'NoOfEmployees': 32.0, 'CostIncurredAtStore':...</td>\n",
       "      <td>{'NoOfEmployees': 16.0, 'CostIncurredAtStore':...</td>\n",
       "      <td>{'NoOfEmployees': 17.0, 'CostIncurredAtStore':...</td>\n",
       "      <td>...</td>\n",
       "      <td>{'NoOfEmployees': 94.0, 'CostIncurredAtStore':...</td>\n",
       "      <td>{'NoOfEmployees': 103.0, 'CostIncurredAtStore'...</td>\n",
       "      <td>{'NoOfEmployees': 135.0, 'CostIncurredAtStore'...</td>\n",
       "      <td>{'NoOfEmployees': 148.0, 'CostIncurredAtStore'...</td>\n",
       "      <td>{'NoOfEmployees': 157.0, 'CostIncurredAtStore'...</td>\n",
       "      <td>{'NoOfEmployees': 166.0, 'CostIncurredAtStore'...</td>\n",
       "      <td>{'NoOfEmployees': 179.0, 'CostIncurredAtStore'...</td>\n",
       "      <td>{'NoOfEmployees': 193.0, 'CostIncurredAtStore'...</td>\n",
       "      <td>{'NoOfEmployees': 204.0, 'CostIncurredAtStore'...</td>\n",
       "      <td>{'NoOfEmployees': 223.0, 'CostIncurredAtStore'...</td>\n",
       "    </tr>\n",
       "    <tr>\n",
       "      <th>3</th>\n",
       "      <td>NaN</td>\n",
       "      <td>NaN</td>\n",
       "      <td>NaN</td>\n",
       "      <td>NaN</td>\n",
       "      <td>{'NoOfEmployees': 11.0, 'CostIncurredAtStore':...</td>\n",
       "      <td>{'NoOfEmployees': 24.0, 'CostIncurredAtStore':...</td>\n",
       "      <td>{'NoOfEmployees': 26.0, 'CostIncurredAtStore':...</td>\n",
       "      <td>{'NoOfEmployees': 27.0, 'CostIncurredAtStore':...</td>\n",
       "      <td>{'NoOfEmployees': 12.0, 'CostIncurredAtStore':...</td>\n",
       "      <td>{'NoOfEmployees': 13.0, 'CostIncurredAtStore':...</td>\n",
       "      <td>...</td>\n",
       "      <td>{'NoOfEmployees': 92.0, 'CostIncurredAtStore':...</td>\n",
       "      <td>{'NoOfEmployees': 100.0, 'CostIncurredAtStore'...</td>\n",
       "      <td>{'NoOfEmployees': 116.0, 'CostIncurredAtStore'...</td>\n",
       "      <td>{'NoOfEmployees': 121.0, 'CostIncurredAtStore'...</td>\n",
       "      <td>{'NoOfEmployees': 123.0, 'CostIncurredAtStore'...</td>\n",
       "      <td>{'NoOfEmployees': 134.0, 'CostIncurredAtStore'...</td>\n",
       "      <td>{'NoOfEmployees': 142.0, 'CostIncurredAtStore'...</td>\n",
       "      <td>{'NoOfEmployees': 151.0, 'CostIncurredAtStore'...</td>\n",
       "      <td>{'NoOfEmployees': 155.0, 'CostIncurredAtStore'...</td>\n",
       "      <td>NaN</td>\n",
       "    </tr>\n",
       "    <tr>\n",
       "      <th>4</th>\n",
       "      <td>NaN</td>\n",
       "      <td>NaN</td>\n",
       "      <td>NaN</td>\n",
       "      <td>NaN</td>\n",
       "      <td>NaN</td>\n",
       "      <td>{'NoOfEmployees': 18.0, 'CostIncurredAtStore':...</td>\n",
       "      <td>{'NoOfEmployees': 19.0, 'CostIncurredAtStore':...</td>\n",
       "      <td>{'NoOfEmployees': 21.0, 'CostIncurredAtStore':...</td>\n",
       "      <td>NaN</td>\n",
       "      <td>NaN</td>\n",
       "      <td>...</td>\n",
       "      <td>{'NoOfEmployees': 72.0, 'CostIncurredAtStore':...</td>\n",
       "      <td>{'NoOfEmployees': 80.0, 'CostIncurredAtStore':...</td>\n",
       "      <td>{'NoOfEmployees': 109.0, 'CostIncurredAtStore'...</td>\n",
       "      <td>{'NoOfEmployees': 117.0, 'CostIncurredAtStore'...</td>\n",
       "      <td>{'NoOfEmployees': 125.0, 'CostIncurredAtStore'...</td>\n",
       "      <td>{'NoOfEmployees': 136.0, 'CostIncurredAtStore'...</td>\n",
       "      <td>{'NoOfEmployees': 149.0, 'CostIncurredAtStore'...</td>\n",
       "      <td>{'NoOfEmployees': 160.0, 'CostIncurredAtStore'...</td>\n",
       "      <td>{'NoOfEmployees': 163.0, 'CostIncurredAtStore'...</td>\n",
       "      <td>{'NoOfEmployees': 174.0, 'CostIncurredAtStore'...</td>\n",
       "    </tr>\n",
       "    <tr>\n",
       "      <th>5</th>\n",
       "      <td>NaN</td>\n",
       "      <td>NaN</td>\n",
       "      <td>NaN</td>\n",
       "      <td>NaN</td>\n",
       "      <td>NaN</td>\n",
       "      <td>NaN</td>\n",
       "      <td>{'NoOfEmployees': 11.0, 'CostIncurredAtStore':...</td>\n",
       "      <td>{'NoOfEmployees': 12.0, 'CostIncurredAtStore':...</td>\n",
       "      <td>NaN</td>\n",
       "      <td>NaN</td>\n",
       "      <td>...</td>\n",
       "      <td>{'NoOfEmployees': 49.0, 'CostIncurredAtStore':...</td>\n",
       "      <td>{'NoOfEmployees': 53.0, 'CostIncurredAtStore':...</td>\n",
       "      <td>{'NoOfEmployees': 62.0, 'CostIncurredAtStore':...</td>\n",
       "      <td>{'NoOfEmployees': 67.0, 'CostIncurredAtStore':...</td>\n",
       "      <td>{'NoOfEmployees': 74.0, 'CostIncurredAtStore':...</td>\n",
       "      <td>{'NoOfEmployees': 77.0, 'CostIncurredAtStore':...</td>\n",
       "      <td>{'NoOfEmployees': 83.0, 'CostIncurredAtStore':...</td>\n",
       "      <td>{'NoOfEmployees': 90.0, 'CostIncurredAtStore':...</td>\n",
       "      <td>{'NoOfEmployees': 97.0, 'CostIncurredAtStore':...</td>\n",
       "      <td>{'NoOfEmployees': 99.0, 'CostIncurredAtStore':...</td>\n",
       "    </tr>\n",
       "    <tr>\n",
       "      <th>6</th>\n",
       "      <td>NaN</td>\n",
       "      <td>NaN</td>\n",
       "      <td>NaN</td>\n",
       "      <td>NaN</td>\n",
       "      <td>NaN</td>\n",
       "      <td>NaN</td>\n",
       "      <td>NaN</td>\n",
       "      <td>NaN</td>\n",
       "      <td>NaN</td>\n",
       "      <td>NaN</td>\n",
       "      <td>...</td>\n",
       "      <td>{'NoOfEmployees': 34.0, 'CostIncurredAtStore':...</td>\n",
       "      <td>{'NoOfEmployees': 36.0, 'CostIncurredAtStore':...</td>\n",
       "      <td>{'NoOfEmployees': 49.0, 'CostIncurredAtStore':...</td>\n",
       "      <td>{'NoOfEmployees': 52.0, 'CostIncurredAtStore':...</td>\n",
       "      <td>{'NoOfEmployees': 55.0, 'CostIncurredAtStore':...</td>\n",
       "      <td>{'NoOfEmployees': 59.0, 'CostIncurredAtStore':...</td>\n",
       "      <td>{'NoOfEmployees': 60.0, 'CostIncurredAtStore':...</td>\n",
       "      <td>{'NoOfEmployees': 61.0, 'CostIncurredAtStore':...</td>\n",
       "      <td>{'NoOfEmployees': 66.0, 'CostIncurredAtStore':...</td>\n",
       "      <td>NaN</td>\n",
       "    </tr>\n",
       "  </tbody>\n",
       "</table>\n",
       "<p>7 rows × 48 columns</p>\n",
       "</div>"
      ],
      "text/plain": [
       "                                             2013:10  \\\n",
       "0  {'NoOfEmployees': 12.0, 'CostIncurredAtStore':...   \n",
       "1  {'NoOfEmployees': 12.0, 'CostIncurredAtStore':...   \n",
       "2  {'NoOfEmployees': 12.0, 'CostIncurredAtStore':...   \n",
       "3                                                NaN   \n",
       "4                                                NaN   \n",
       "5                                                NaN   \n",
       "6                                                NaN   \n",
       "\n",
       "                                             2013:11  \\\n",
       "0  {'NoOfEmployees': 13.0, 'CostIncurredAtStore':...   \n",
       "1  {'NoOfEmployees': 13.0, 'CostIncurredAtStore':...   \n",
       "2  {'NoOfEmployees': 13.0, 'CostIncurredAtStore':...   \n",
       "3                                                NaN   \n",
       "4                                                NaN   \n",
       "5                                                NaN   \n",
       "6                                                NaN   \n",
       "\n",
       "                                             2013:12  \\\n",
       "0  {'NoOfEmployees': 14.0, 'CostIncurredAtStore':...   \n",
       "1  {'NoOfEmployees': 14.0, 'CostIncurredAtStore':...   \n",
       "2  {'NoOfEmployees': 14.0, 'CostIncurredAtStore':...   \n",
       "3                                                NaN   \n",
       "4                                                NaN   \n",
       "5                                                NaN   \n",
       "6                                                NaN   \n",
       "\n",
       "                                              2013:9  \\\n",
       "0  {'NoOfEmployees': 11.0, 'CostIncurredAtStore':...   \n",
       "1  {'NoOfEmployees': 11.0, 'CostIncurredAtStore':...   \n",
       "2  {'NoOfEmployees': 11.0, 'CostIncurredAtStore':...   \n",
       "3                                                NaN   \n",
       "4                                                NaN   \n",
       "5                                                NaN   \n",
       "6                                                NaN   \n",
       "\n",
       "                                              2014:1  \\\n",
       "0  {'NoOfEmployees': 15.0, 'CostIncurredAtStore':...   \n",
       "1  {'NoOfEmployees': 15.0, 'CostIncurredAtStore':...   \n",
       "2  {'NoOfEmployees': 15.0, 'CostIncurredAtStore':...   \n",
       "3  {'NoOfEmployees': 11.0, 'CostIncurredAtStore':...   \n",
       "4                                                NaN   \n",
       "5                                                NaN   \n",
       "6                                                NaN   \n",
       "\n",
       "                                             2014:10  \\\n",
       "0  {'NoOfEmployees': 31.0, 'CostIncurredAtStore':...   \n",
       "1  {'NoOfEmployees': 30.0, 'CostIncurredAtStore':...   \n",
       "2  {'NoOfEmployees': 28.0, 'CostIncurredAtStore':...   \n",
       "3  {'NoOfEmployees': 24.0, 'CostIncurredAtStore':...   \n",
       "4  {'NoOfEmployees': 18.0, 'CostIncurredAtStore':...   \n",
       "5                                                NaN   \n",
       "6                                                NaN   \n",
       "\n",
       "                                             2014:11  \\\n",
       "0  {'NoOfEmployees': 32.0, 'CostIncurredAtStore':...   \n",
       "1  {'NoOfEmployees': 31.0, 'CostIncurredAtStore':...   \n",
       "2  {'NoOfEmployees': 30.0, 'CostIncurredAtStore':...   \n",
       "3  {'NoOfEmployees': 26.0, 'CostIncurredAtStore':...   \n",
       "4  {'NoOfEmployees': 19.0, 'CostIncurredAtStore':...   \n",
       "5  {'NoOfEmployees': 11.0, 'CostIncurredAtStore':...   \n",
       "6                                                NaN   \n",
       "\n",
       "                                             2014:12  \\\n",
       "0  {'NoOfEmployees': 34.0, 'CostIncurredAtStore':...   \n",
       "1  {'NoOfEmployees': 34.0, 'CostIncurredAtStore':...   \n",
       "2  {'NoOfEmployees': 32.0, 'CostIncurredAtStore':...   \n",
       "3  {'NoOfEmployees': 27.0, 'CostIncurredAtStore':...   \n",
       "4  {'NoOfEmployees': 21.0, 'CostIncurredAtStore':...   \n",
       "5  {'NoOfEmployees': 12.0, 'CostIncurredAtStore':...   \n",
       "6                                                NaN   \n",
       "\n",
       "                                              2014:2  \\\n",
       "0  {'NoOfEmployees': 16.0, 'CostIncurredAtStore':...   \n",
       "1  {'NoOfEmployees': 17.0, 'CostIncurredAtStore':...   \n",
       "2  {'NoOfEmployees': 16.0, 'CostIncurredAtStore':...   \n",
       "3  {'NoOfEmployees': 12.0, 'CostIncurredAtStore':...   \n",
       "4                                                NaN   \n",
       "5                                                NaN   \n",
       "6                                                NaN   \n",
       "\n",
       "                                              2014:3  \\\n",
       "0  {'NoOfEmployees': 17.0, 'CostIncurredAtStore':...   \n",
       "1  {'NoOfEmployees': 18.0, 'CostIncurredAtStore':...   \n",
       "2  {'NoOfEmployees': 17.0, 'CostIncurredAtStore':...   \n",
       "3  {'NoOfEmployees': 13.0, 'CostIncurredAtStore':...   \n",
       "4                                                NaN   \n",
       "5                                                NaN   \n",
       "6                                                NaN   \n",
       "\n",
       "                         ...                          \\\n",
       "0                        ...                           \n",
       "1                        ...                           \n",
       "2                        ...                           \n",
       "3                        ...                           \n",
       "4                        ...                           \n",
       "5                        ...                           \n",
       "6                        ...                           \n",
       "\n",
       "                                              2016:8  \\\n",
       "0  {'NoOfEmployees': 114.0, 'CostIncurredAtStore'...   \n",
       "1  {'NoOfEmployees': 147.0, 'CostIncurredAtStore'...   \n",
       "2  {'NoOfEmployees': 94.0, 'CostIncurredAtStore':...   \n",
       "3  {'NoOfEmployees': 92.0, 'CostIncurredAtStore':...   \n",
       "4  {'NoOfEmployees': 72.0, 'CostIncurredAtStore':...   \n",
       "5  {'NoOfEmployees': 49.0, 'CostIncurredAtStore':...   \n",
       "6  {'NoOfEmployees': 34.0, 'CostIncurredAtStore':...   \n",
       "\n",
       "                                              2016:9  \\\n",
       "0  {'NoOfEmployees': 122.0, 'CostIncurredAtStore'...   \n",
       "1  {'NoOfEmployees': 160.0, 'CostIncurredAtStore'...   \n",
       "2  {'NoOfEmployees': 103.0, 'CostIncurredAtStore'...   \n",
       "3  {'NoOfEmployees': 100.0, 'CostIncurredAtStore'...   \n",
       "4  {'NoOfEmployees': 80.0, 'CostIncurredAtStore':...   \n",
       "5  {'NoOfEmployees': 53.0, 'CostIncurredAtStore':...   \n",
       "6  {'NoOfEmployees': 36.0, 'CostIncurredAtStore':...   \n",
       "\n",
       "                                              2017:1  \\\n",
       "0  {'NoOfEmployees': 146.0, 'CostIncurredAtStore'...   \n",
       "1  {'NoOfEmployees': 212.0, 'CostIncurredAtStore'...   \n",
       "2  {'NoOfEmployees': 135.0, 'CostIncurredAtStore'...   \n",
       "3  {'NoOfEmployees': 116.0, 'CostIncurredAtStore'...   \n",
       "4  {'NoOfEmployees': 109.0, 'CostIncurredAtStore'...   \n",
       "5  {'NoOfEmployees': 62.0, 'CostIncurredAtStore':...   \n",
       "6  {'NoOfEmployees': 49.0, 'CostIncurredAtStore':...   \n",
       "\n",
       "                                              2017:2  \\\n",
       "0  {'NoOfEmployees': 157.0, 'CostIncurredAtStore'...   \n",
       "1  {'NoOfEmployees': 223.0, 'CostIncurredAtStore'...   \n",
       "2  {'NoOfEmployees': 148.0, 'CostIncurredAtStore'...   \n",
       "3  {'NoOfEmployees': 121.0, 'CostIncurredAtStore'...   \n",
       "4  {'NoOfEmployees': 117.0, 'CostIncurredAtStore'...   \n",
       "5  {'NoOfEmployees': 67.0, 'CostIncurredAtStore':...   \n",
       "6  {'NoOfEmployees': 52.0, 'CostIncurredAtStore':...   \n",
       "\n",
       "                                              2017:3  \\\n",
       "0  {'NoOfEmployees': 170.0, 'CostIncurredAtStore'...   \n",
       "1  {'NoOfEmployees': 239.0, 'CostIncurredAtStore'...   \n",
       "2  {'NoOfEmployees': 157.0, 'CostIncurredAtStore'...   \n",
       "3  {'NoOfEmployees': 123.0, 'CostIncurredAtStore'...   \n",
       "4  {'NoOfEmployees': 125.0, 'CostIncurredAtStore'...   \n",
       "5  {'NoOfEmployees': 74.0, 'CostIncurredAtStore':...   \n",
       "6  {'NoOfEmployees': 55.0, 'CostIncurredAtStore':...   \n",
       "\n",
       "                                              2017:4  \\\n",
       "0  {'NoOfEmployees': 176.0, 'CostIncurredAtStore'...   \n",
       "1  {'NoOfEmployees': 257.0, 'CostIncurredAtStore'...   \n",
       "2  {'NoOfEmployees': 166.0, 'CostIncurredAtStore'...   \n",
       "3  {'NoOfEmployees': 134.0, 'CostIncurredAtStore'...   \n",
       "4  {'NoOfEmployees': 136.0, 'CostIncurredAtStore'...   \n",
       "5  {'NoOfEmployees': 77.0, 'CostIncurredAtStore':...   \n",
       "6  {'NoOfEmployees': 59.0, 'CostIncurredAtStore':...   \n",
       "\n",
       "                                              2017:5  \\\n",
       "0  {'NoOfEmployees': 190.0, 'CostIncurredAtStore'...   \n",
       "1  {'NoOfEmployees': 268.0, 'CostIncurredAtStore'...   \n",
       "2  {'NoOfEmployees': 179.0, 'CostIncurredAtStore'...   \n",
       "3  {'NoOfEmployees': 142.0, 'CostIncurredAtStore'...   \n",
       "4  {'NoOfEmployees': 149.0, 'CostIncurredAtStore'...   \n",
       "5  {'NoOfEmployees': 83.0, 'CostIncurredAtStore':...   \n",
       "6  {'NoOfEmployees': 60.0, 'CostIncurredAtStore':...   \n",
       "\n",
       "                                              2017:6  \\\n",
       "0  {'NoOfEmployees': 206.0, 'CostIncurredAtStore'...   \n",
       "1  {'NoOfEmployees': 293.0, 'CostIncurredAtStore'...   \n",
       "2  {'NoOfEmployees': 193.0, 'CostIncurredAtStore'...   \n",
       "3  {'NoOfEmployees': 151.0, 'CostIncurredAtStore'...   \n",
       "4  {'NoOfEmployees': 160.0, 'CostIncurredAtStore'...   \n",
       "5  {'NoOfEmployees': 90.0, 'CostIncurredAtStore':...   \n",
       "6  {'NoOfEmployees': 61.0, 'CostIncurredAtStore':...   \n",
       "\n",
       "                                              2017:7  \\\n",
       "0  {'NoOfEmployees': 215.0, 'CostIncurredAtStore'...   \n",
       "1  {'NoOfEmployees': 304.0, 'CostIncurredAtStore'...   \n",
       "2  {'NoOfEmployees': 204.0, 'CostIncurredAtStore'...   \n",
       "3  {'NoOfEmployees': 155.0, 'CostIncurredAtStore'...   \n",
       "4  {'NoOfEmployees': 163.0, 'CostIncurredAtStore'...   \n",
       "5  {'NoOfEmployees': 97.0, 'CostIncurredAtStore':...   \n",
       "6  {'NoOfEmployees': 66.0, 'CostIncurredAtStore':...   \n",
       "\n",
       "                                              2017:8  \n",
       "0  {'NoOfEmployees': 222.0, 'CostIncurredAtStore'...  \n",
       "1  {'NoOfEmployees': 317.0, 'CostIncurredAtStore'...  \n",
       "2  {'NoOfEmployees': 223.0, 'CostIncurredAtStore'...  \n",
       "3                                                NaN  \n",
       "4  {'NoOfEmployees': 174.0, 'CostIncurredAtStore'...  \n",
       "5  {'NoOfEmployees': 99.0, 'CostIncurredAtStore':...  \n",
       "6                                                NaN  \n",
       "\n",
       "[7 rows x 48 columns]"
      ]
     },
     "execution_count": 5,
     "metadata": {},
     "output_type": "execute_result"
    }
   ],
   "source": [
    "stdf = coffee['Monthly Data'].apply(json.loads).apply(pd.Series)\n",
    "stdf.reset_index(drop=True)\n",
    "#stdf.head()"
   ]
  },
  {
   "cell_type": "code",
   "execution_count": 6,
   "metadata": {
    "extensions": {
     "jupyter_dashboards": {
      "version": 1,
      "views": {
       "grid_default": {
        "hidden": true
       },
       "report_default": {}
      }
     }
    }
   },
   "outputs": [],
   "source": [
    "coffee = coffee[['Store ID', 'Name', 'Brand', 'Store Number', 'Phone Number',\n",
    "       'Ownership Type', 'Street Combined', 'Street 1', 'Street 2', 'Street 3',\n",
    "       'City', 'State', 'Country', 'Coordinates', 'Latitude', 'Longitude',\n",
    "       'Start Date', 'Monthly Data']]"
   ]
  },
  {
   "cell_type": "code",
   "execution_count": 41,
   "metadata": {
    "collapsed": true,
    "extensions": {
     "jupyter_dashboards": {
      "version": 1,
      "views": {
       "grid_default": {
        "col": 0,
        "height": 14,
        "hidden": true,
        "row": 0,
        "width": 12
       },
       "report_default": {}
      }
     }
    }
   },
   "outputs": [],
   "source": [
    "#len(coffee.Country.unique())"
   ]
  },
  {
   "cell_type": "code",
   "execution_count": 7,
   "metadata": {
    "extensions": {
     "jupyter_dashboards": {
      "version": 1,
      "views": {
       "grid_default": {
        "hidden": true
       },
       "report_default": {}
      }
     }
    }
   },
   "outputs": [],
   "source": [
    "stdf.columns = range(0,len(stdf.columns))"
   ]
  },
  {
   "cell_type": "code",
   "execution_count": 43,
   "metadata": {
    "collapsed": true,
    "extensions": {
     "jupyter_dashboards": {
      "version": 1,
      "views": {
       "grid_default": {
        "col": 0,
        "height": 4,
        "hidden": true,
        "row": 0,
        "width": 4
       },
       "report_default": {}
      }
     }
    }
   },
   "outputs": [],
   "source": [
    "stdf['City'] = coffee['City']\n",
    "stdf['Name'] = coffee['Name']\n",
    "stdf_city = stdf[stdf['City'] == 'Pune']\n",
    "#len(stdf_city['Name'].unique())"
   ]
  },
  {
   "cell_type": "code",
   "execution_count": 44,
   "metadata": {
    "collapsed": true,
    "extensions": {
     "jupyter_dashboards": {
      "version": 1,
      "views": {
       "grid_default": {
        "col": 4,
        "height": 10,
        "hidden": true,
        "row": 0,
        "width": 4
       },
       "report_default": {}
      }
     }
    }
   },
   "outputs": [],
   "source": [
    "#stdf_city[0].apply(pd.Series)"
   ]
  },
  {
   "cell_type": "markdown",
   "metadata": {
    "extensions": {
     "jupyter_dashboards": {
      "version": 1,
      "views": {
       "grid_default": {
        "col": 0,
        "height": 5,
        "hidden": false,
        "row": 0,
        "width": 3
       },
       "report_default": {}
      }
     }
    }
   },
   "source": [
    "# Cost Incurred vs Revenue Plot for stores in Pune\n",
    "#### *Bubble size represents Profits"
   ]
  },
  {
   "cell_type": "code",
   "execution_count": 49,
   "metadata": {
    "extensions": {
     "jupyter_dashboards": {
      "version": 1,
      "views": {
       "grid_default": {
        "col": 3,
        "height": 17,
        "hidden": false,
        "row": 0,
        "width": 9
       },
       "report_default": {}
      }
     }
    }
   },
   "outputs": [
    {
     "name": "stderr",
     "output_type": "stream",
     "text": [
      "/home/shwet/anaconda3/lib/python3.6/site-packages/pandas/core/indexes/api.py:77: RuntimeWarning: '>' not supported between instances of 'int' and 'str', sort order is undefined for incomparable objects\n",
      "  result = result.union(other)\n"
     ]
    },
    {
     "data": {
      "text/html": [
       "\n",
       "\n",
       "    <div class=\"bk-root\">\n",
       "        <div class=\"bk-plotdiv\" id=\"7c4c38f8-5088-402f-bbc5-864e161d387c\"></div>\n",
       "    </div>\n",
       "<script type=\"text/javascript\">\n",
       "  \n",
       "  (function(global) {\n",
       "    function now() {\n",
       "      return new Date();\n",
       "    }\n",
       "  \n",
       "    var force = false;\n",
       "  \n",
       "    if (typeof (window._bokeh_onload_callbacks) === \"undefined\" || force === true) {\n",
       "      window._bokeh_onload_callbacks = [];\n",
       "      window._bokeh_is_loading = undefined;\n",
       "    }\n",
       "  \n",
       "  \n",
       "    \n",
       "    if (typeof (window._bokeh_timeout) === \"undefined\" || force === true) {\n",
       "      window._bokeh_timeout = Date.now() + 0;\n",
       "      window._bokeh_failed_load = false;\n",
       "    }\n",
       "  \n",
       "    var NB_LOAD_WARNING = {'data': {'text/html':\n",
       "       \"<div style='background-color: #fdd'>\\n\"+\n",
       "       \"<p>\\n\"+\n",
       "       \"BokehJS does not appear to have successfully loaded. If loading BokehJS from CDN, this \\n\"+\n",
       "       \"may be due to a slow or bad network connection. Possible fixes:\\n\"+\n",
       "       \"</p>\\n\"+\n",
       "       \"<ul>\\n\"+\n",
       "       \"<li>re-rerun `output_notebook()` to attempt to load from CDN again, or</li>\\n\"+\n",
       "       \"<li>use INLINE resources instead, as so:</li>\\n\"+\n",
       "       \"</ul>\\n\"+\n",
       "       \"<code>\\n\"+\n",
       "       \"from bokeh.resources import INLINE\\n\"+\n",
       "       \"output_notebook(resources=INLINE)\\n\"+\n",
       "       \"</code>\\n\"+\n",
       "       \"</div>\"}};\n",
       "  \n",
       "    function display_loaded() {\n",
       "      if (window.Bokeh !== undefined) {\n",
       "        var el = document.getElementById(\"7c4c38f8-5088-402f-bbc5-864e161d387c\");\n",
       "        el.textContent = \"BokehJS \" + Bokeh.version + \" successfully loaded.\";\n",
       "      } else if (Date.now() < window._bokeh_timeout) {\n",
       "        setTimeout(display_loaded, 100)\n",
       "      }\n",
       "    }if ((window.Jupyter !== undefined) && Jupyter.notebook.kernel) {\n",
       "      comm_manager = Jupyter.notebook.kernel.comm_manager\n",
       "      comm_manager.register_target(\"225f50ed-e844-4d10-882a-dbe3aa4ce14c\", function () {});\n",
       "    }\n",
       "  \n",
       "    function run_callbacks() {\n",
       "      window._bokeh_onload_callbacks.forEach(function(callback) { callback() });\n",
       "      delete window._bokeh_onload_callbacks\n",
       "      console.info(\"Bokeh: all callbacks have finished\");\n",
       "    }\n",
       "  \n",
       "    function load_libs(js_urls, callback) {\n",
       "      window._bokeh_onload_callbacks.push(callback);\n",
       "      if (window._bokeh_is_loading > 0) {\n",
       "        console.log(\"Bokeh: BokehJS is being loaded, scheduling callback at\", now());\n",
       "        return null;\n",
       "      }\n",
       "      if (js_urls == null || js_urls.length === 0) {\n",
       "        run_callbacks();\n",
       "        return null;\n",
       "      }\n",
       "      console.log(\"Bokeh: BokehJS not loaded, scheduling load and callback at\", now());\n",
       "      window._bokeh_is_loading = js_urls.length;\n",
       "      for (var i = 0; i < js_urls.length; i++) {\n",
       "        var url = js_urls[i];\n",
       "        var s = document.createElement('script');\n",
       "        s.src = url;\n",
       "        s.async = false;\n",
       "        s.onreadystatechange = s.onload = function() {\n",
       "          window._bokeh_is_loading--;\n",
       "          if (window._bokeh_is_loading === 0) {\n",
       "            console.log(\"Bokeh: all BokehJS libraries loaded\");\n",
       "            run_callbacks()\n",
       "          }\n",
       "        };\n",
       "        s.onerror = function() {\n",
       "          console.warn(\"failed to load library \" + url);\n",
       "        };\n",
       "        console.log(\"Bokeh: injecting script tag for BokehJS library: \", url);\n",
       "        document.getElementsByTagName(\"head\")[0].appendChild(s);\n",
       "      }\n",
       "    };var element = document.getElementById(\"7c4c38f8-5088-402f-bbc5-864e161d387c\");\n",
       "    if (element == null) {\n",
       "      console.log(\"Bokeh: ERROR: autoload.js configured with elementid '7c4c38f8-5088-402f-bbc5-864e161d387c' but no matching script tag was found. \")\n",
       "      return false;\n",
       "    }\n",
       "  \n",
       "    var js_urls = [];\n",
       "  \n",
       "    var inline_js = [\n",
       "      function(Bokeh) {\n",
       "        (function() {\n",
       "          var fn = function() {\n",
       "            var docs_json = {\"38c84bc6-5008-4697-8014-6df20758ee83\":{\"roots\":{\"references\":[{\"attributes\":{\"fill_alpha\":{\"value\":0.9},\"fill_color\":{\"field\":\"stores\",\"transform\":{\"id\":\"8b60a158-98dd-476a-8a9f-a30959d22ab4\",\"type\":\"CategoricalColorMapper\"}},\"line_alpha\":{\"value\":0.9},\"line_color\":{\"field\":\"stores\",\"transform\":{\"id\":\"8b60a158-98dd-476a-8a9f-a30959d22ab4\",\"type\":\"CategoricalColorMapper\"}},\"size\":{\"field\":\"profit_scaled\",\"units\":\"screen\"},\"x\":{\"field\":\"x\"},\"y\":{\"field\":\"y\"}},\"id\":\"2f1aa082-9319-4d59-afb0-ba6de0f39b74\",\"type\":\"Circle\"},{\"attributes\":{\"callback\":null,\"column_names\":[\"x\",\"y\",\"profit\",\"profit_scaled\",\"stores\",\"emp\"],\"data\":{\"emp\":{\"__ndarray__\":\"AAAAAAAAKEAAAAAAAAAoQAAAAAAAAChAAAAAAAAA+H8AAAAAAAD4fwAAAAAAAPh/AAAAAAAA+H8=\",\"dtype\":\"float64\",\"shape\":[7]},\"profit\":{\"__ndarray__\":\"AAAAAACAWsAAAAAAAMBaQAAAAAAAgE7AAAAAAAAA+H8AAAAAAAD4fwAAAAAAAPh/AAAAAAAA+H8=\",\"dtype\":\"float64\",\"shape\":[7]},\"profit_scaled\":{\"__ndarray__\":\"MzMzMzMzNUBmZmZmZmY1QGZmZmZmZihAAAAAAAAA+H8AAAAAAAD4fwAAAAAAAPh/AAAAAAAA+H8=\",\"dtype\":\"float64\",\"shape\":[7]},\"stores\":[\"Koregaon Park\",\"Hadapsar\",\"Viman Nagar\",\"Aundh\",\"Magarpatta\",\"Kharadi\",\"FC Road\"],\"x\":{\"__ndarray__\":\"AAAAAABAlUAAAAAAAFiWQAAAAAAAvJdAAAAAAAAA+H8AAAAAAAD4fwAAAAAAAPh/AAAAAAAA+H8=\",\"dtype\":\"float64\",\"shape\":[7]},\"y\":{\"__ndarray__\":\"AAAAAACYk0AAAAAAAASYQAAAAAAAyJZAAAAAAAAA+H8AAAAAAAD4fwAAAAAAAPh/AAAAAAAA+H8=\",\"dtype\":\"float64\",\"shape\":[7]}}},\"id\":\"555e4972-6e49-400e-be94-e61e053eef5a\",\"type\":\"ColumnDataSource\"},{\"attributes\":{},\"id\":\"2b954216-3aca-47e3-a8c4-b608feab36ac\",\"type\":\"BasicTickFormatter\"},{\"attributes\":{\"active_drag\":\"auto\",\"active_scroll\":\"auto\",\"active_tap\":\"auto\",\"tools\":[{\"id\":\"637b1b1e-7aef-4d8d-8090-bbfc882e2b44\",\"type\":\"HoverTool\"}]},\"id\":\"46acf7b4-81db-44f2-8ac0-0c7dc731ea06\",\"type\":\"Toolbar\"},{\"attributes\":{\"fill_alpha\":{\"value\":0.1},\"fill_color\":{\"value\":\"#1f77b4\"},\"line_alpha\":{\"value\":0.1},\"line_color\":{\"value\":\"#1f77b4\"},\"size\":{\"field\":\"profit_scaled\",\"units\":\"screen\"},\"x\":{\"field\":\"x\"},\"y\":{\"field\":\"y\"}},\"id\":\"2b60fa8b-1dfb-4adc-a9b7-78eac6699955\",\"type\":\"Circle\"},{\"attributes\":{},\"id\":\"827b397b-07d2-46b5-8ef3-91dcbec70f88\",\"type\":\"BasicTicker\"},{\"attributes\":{},\"id\":\"e41bbe89-dae9-4b39-a030-cfbf92255f78\",\"type\":\"ToolEvents\"},{\"attributes\":{\"num_minor_ticks\":10},\"id\":\"f9eb03fc-c2b6-4dd7-a23e-ebbc8cab7b42\",\"type\":\"LogTicker\"},{\"attributes\":{\"callback\":null,\"plot\":{\"id\":\"f42bde5f-5ff9-4392-9a38-f4f4d673d791\",\"subtype\":\"Figure\",\"type\":\"Plot\"},\"show_arrow\":false,\"tooltips\":[[\"Employee Count\",\"@emp\"],[\"Profit\",\"@profit\"],[\"Revenue\",\"@y\"],[\"Cost Incurred\",\"@x\"]]},\"id\":\"637b1b1e-7aef-4d8d-8090-bbfc882e2b44\",\"type\":\"HoverTool\"},{\"attributes\":{\"below\":[{\"id\":\"9e683b67-5325-46fd-a22f-1522f9bd16de\",\"type\":\"LogAxis\"}],\"left\":[{\"id\":\"282654c3-d001-4885-859c-ccceaf56b742\",\"type\":\"LinearAxis\"}],\"plot_height\":450,\"plot_width\":750,\"renderers\":[{\"id\":\"9e683b67-5325-46fd-a22f-1522f9bd16de\",\"type\":\"LogAxis\"},{\"id\":\"35d79011-04d4-4a1d-91a1-a81f6d609489\",\"type\":\"Grid\"},{\"id\":\"282654c3-d001-4885-859c-ccceaf56b742\",\"type\":\"LinearAxis\"},{\"id\":\"8173f045-e194-4202-94b5-dba90756d70f\",\"type\":\"Grid\"},{\"id\":\"bd368138-d32d-40c0-bd50-5f1d32bf4a84\",\"type\":\"Legend\"},{\"id\":\"ce8788e1-5f8e-4351-9749-ef0951ddf746\",\"type\":\"GlyphRenderer\"}],\"right\":[{\"id\":\"bd368138-d32d-40c0-bd50-5f1d32bf4a84\",\"type\":\"Legend\"}],\"title\":{\"id\":\"b4af669c-2d06-47bc-85d4-c34f33c14785\",\"type\":\"Title\"},\"tool_events\":{\"id\":\"e41bbe89-dae9-4b39-a030-cfbf92255f78\",\"type\":\"ToolEvents\"},\"toolbar\":{\"id\":\"46acf7b4-81db-44f2-8ac0-0c7dc731ea06\",\"type\":\"Toolbar\"},\"toolbar_location\":\"above\",\"x_mapper_type\":\"log\",\"x_range\":{\"id\":\"377f2948-6ebd-4fdf-a14e-8c68ee91c03b\",\"type\":\"Range1d\"},\"y_range\":{\"id\":\"ae3d0c77-3292-4e0c-bba3-1fa0da2533fb\",\"type\":\"Range1d\"}},\"id\":\"f42bde5f-5ff9-4392-9a38-f4f4d673d791\",\"subtype\":\"Figure\",\"type\":\"Plot\"},{\"attributes\":{\"border_line_color\":{\"value\":null},\"items\":[{\"id\":\"35dda8c8-ef31-4fec-80ed-abdf91a16c9c\",\"type\":\"LegendItem\"}],\"location\":[10,0],\"plot\":{\"id\":\"f42bde5f-5ff9-4392-9a38-f4f4d673d791\",\"subtype\":\"Figure\",\"type\":\"Plot\"}},\"id\":\"bd368138-d32d-40c0-bd50-5f1d32bf4a84\",\"type\":\"Legend\"},{\"attributes\":{\"factors\":[\"Koregaon Park\",\"Hadapsar\",\"Viman Nagar\",\"Aundh\",\"Magarpatta\",\"Kharadi\",\"FC Road\"],\"palette\":[\"#5e4fa2\",\"#3288bd\",\"#66c2a5\",\"#abdda4\",\"#e6f598\",\"#ffffbf\",\"#fee08b\",\"#fdae61\",\"#f46d43\",\"#d53e4f\",\"#9e0142\"]},\"id\":\"8b60a158-98dd-476a-8a9f-a30959d22ab4\",\"type\":\"CategoricalColorMapper\"},{\"attributes\":{\"data_source\":{\"id\":\"555e4972-6e49-400e-be94-e61e053eef5a\",\"type\":\"ColumnDataSource\"},\"glyph\":{\"id\":\"2f1aa082-9319-4d59-afb0-ba6de0f39b74\",\"type\":\"Circle\"},\"hover_glyph\":null,\"muted_glyph\":null,\"nonselection_glyph\":{\"id\":\"2b60fa8b-1dfb-4adc-a9b7-78eac6699955\",\"type\":\"Circle\"},\"selection_glyph\":null},\"id\":\"ce8788e1-5f8e-4351-9749-ef0951ddf746\",\"type\":\"GlyphRenderer\"},{\"attributes\":{\"formatter\":{\"id\":\"110b7ece-feed-4635-b80e-102f96e78c84\",\"type\":\"LogTickFormatter\"},\"plot\":{\"id\":\"f42bde5f-5ff9-4392-9a38-f4f4d673d791\",\"subtype\":\"Figure\",\"type\":\"Plot\"},\"ticker\":{\"id\":\"f9eb03fc-c2b6-4dd7-a23e-ebbc8cab7b42\",\"type\":\"LogTicker\"}},\"id\":\"9e683b67-5325-46fd-a22f-1522f9bd16de\",\"type\":\"LogAxis\"},{\"attributes\":{\"label\":{\"field\":\"stores\"},\"renderers\":[{\"id\":\"ce8788e1-5f8e-4351-9749-ef0951ddf746\",\"type\":\"GlyphRenderer\"}]},\"id\":\"35dda8c8-ef31-4fec-80ed-abdf91a16c9c\",\"type\":\"LegendItem\"},{\"attributes\":{\"dimension\":1,\"plot\":{\"id\":\"f42bde5f-5ff9-4392-9a38-f4f4d673d791\",\"subtype\":\"Figure\",\"type\":\"Plot\"},\"ticker\":{\"id\":\"827b397b-07d2-46b5-8ef3-91dcbec70f88\",\"type\":\"BasicTicker\"}},\"id\":\"8173f045-e194-4202-94b5-dba90756d70f\",\"type\":\"Grid\"},{\"attributes\":{\"formatter\":{\"id\":\"2b954216-3aca-47e3-a8c4-b608feab36ac\",\"type\":\"BasicTickFormatter\"},\"plot\":{\"id\":\"f42bde5f-5ff9-4392-9a38-f4f4d673d791\",\"subtype\":\"Figure\",\"type\":\"Plot\"},\"ticker\":{\"id\":\"827b397b-07d2-46b5-8ef3-91dcbec70f88\",\"type\":\"BasicTicker\"}},\"id\":\"282654c3-d001-4885-859c-ccceaf56b742\",\"type\":\"LinearAxis\"},{\"attributes\":{\"plot\":{\"id\":\"f42bde5f-5ff9-4392-9a38-f4f4d673d791\",\"subtype\":\"Figure\",\"type\":\"Plot\"},\"ticker\":{\"id\":\"f9eb03fc-c2b6-4dd7-a23e-ebbc8cab7b42\",\"type\":\"LogTicker\"}},\"id\":\"35d79011-04d4-4a1d-91a1-a81f6d609489\",\"type\":\"Grid\"},{\"attributes\":{\"plot\":null,\"text\":\"2013 October Cost Incurred vs Revenue\"},\"id\":\"b4af669c-2d06-47bc-85d4-c34f33c14785\",\"type\":\"Title\"},{\"attributes\":{\"callback\":null,\"end\":30000,\"start\":1500},\"id\":\"ae3d0c77-3292-4e0c-bba3-1fa0da2533fb\",\"type\":\"Range1d\"},{\"attributes\":{\"callback\":null,\"end\":30000,\"start\":1300},\"id\":\"377f2948-6ebd-4fdf-a14e-8c68ee91c03b\",\"type\":\"Range1d\"},{\"attributes\":{\"ticker\":null},\"id\":\"110b7ece-feed-4635-b80e-102f96e78c84\",\"type\":\"LogTickFormatter\"}],\"root_ids\":[\"f42bde5f-5ff9-4392-9a38-f4f4d673d791\"]},\"title\":\"Bokeh Application\",\"version\":\"0.12.5\"}};\n",
       "            var render_items = [{\"docid\":\"38c84bc6-5008-4697-8014-6df20758ee83\",\"elementid\":\"7c4c38f8-5088-402f-bbc5-864e161d387c\",\"modelid\":\"f42bde5f-5ff9-4392-9a38-f4f4d673d791\",\"notebook_comms_target\":\"225f50ed-e844-4d10-882a-dbe3aa4ce14c\"}];\n",
       "            \n",
       "            Bokeh.embed.embed_items(docs_json, render_items);\n",
       "          };\n",
       "          if (document.readyState != \"loading\") fn();\n",
       "          else document.addEventListener(\"DOMContentLoaded\", fn);\n",
       "        })();\n",
       "      },\n",
       "      function(Bokeh) {\n",
       "      }\n",
       "    ];\n",
       "  \n",
       "    function run_inline_js() {\n",
       "      \n",
       "      if ((window.Bokeh !== undefined) || (force === true)) {\n",
       "        for (var i = 0; i < inline_js.length; i++) {\n",
       "          inline_js[i](window.Bokeh);\n",
       "        }if (force === true) {\n",
       "          display_loaded();\n",
       "        }} else if (Date.now() < window._bokeh_timeout) {\n",
       "        setTimeout(run_inline_js, 100);\n",
       "      } else if (!window._bokeh_failed_load) {\n",
       "        console.log(\"Bokeh: BokehJS failed to load within specified timeout.\");\n",
       "        window._bokeh_failed_load = true;\n",
       "      } else if (force !== true) {\n",
       "        var cell = $(document.getElementById(\"7c4c38f8-5088-402f-bbc5-864e161d387c\")).parents('.cell').data().cell;\n",
       "        cell.output_area.append_execute_result(NB_LOAD_WARNING)\n",
       "      }\n",
       "  \n",
       "    }\n",
       "  \n",
       "    if (window._bokeh_is_loading === 0) {\n",
       "      console.log(\"Bokeh: BokehJS loaded, going straight to plotting\");\n",
       "      run_inline_js();\n",
       "    } else {\n",
       "      load_libs(js_urls, function() {\n",
       "        console.log(\"Bokeh: BokehJS plotting callback run at\", now());\n",
       "        run_inline_js();\n",
       "      });\n",
       "    }\n",
       "  }(this));\n",
       "</script>"
      ]
     },
     "metadata": {},
     "output_type": "display_data"
    },
    {
     "data": {
      "text/html": [
       "<p><code>&lt;Bokeh Notebook handle for <strong>In[30]</strong>&gt;</code></p>"
      ],
      "text/plain": [
       "<bokeh.io._CommsHandle at 0x7f7d88a74550>"
      ]
     },
     "execution_count": 49,
     "metadata": {},
     "output_type": "execute_result"
    }
   ],
   "source": [
    "from bokeh.palettes import Spectral11\n",
    "from bokeh.models import HoverTool\n",
    "from bokeh.models import LinearInterpolator, CategoricalColorMapper\n",
    "from bokeh.models import ColumnDataSource\n",
    "\n",
    "sss = stdf_city[0].apply(pd.Series)\n",
    "Profit = sss['Profit']\n",
    "source = ColumnDataSource(dict(\n",
    "    x= sss['CostIncurredAtStore'],\n",
    "    y= sss['RevenueOfStore'],\n",
    "    profit = sss['Profit'],\n",
    "    profit_scaled = Profit.apply(lambda x: abs(x/5)),\n",
    "    stores = stdf_city['Name'],    \n",
    "    emp = sss['NoOfEmployees'],\n",
    "        \n",
    "    ))\n",
    "\n",
    "\n",
    "def update_m (month):\n",
    "    sss = stdf_city[month].apply(pd.Series)\n",
    "    Profit = sss['Profit']\n",
    "    new_data = dict(\n",
    "        x= sss['CostIncurredAtStore'],\n",
    "        y= sss['RevenueOfStore'],\n",
    "        stores = stdf_city['Name'],    \n",
    "        emp = sss['NoOfEmployees'],\n",
    "        profit = Profit,\n",
    "        profit_scaled = Profit.apply(lambda x: abs(x/5))\n",
    "        \n",
    "    )\n",
    "    source.data = new_data #updating the source data with the newdata i.e data of each year\n",
    "    p1.title.text = str(month)  #updating the title \n",
    "    push_notebook() #push this into chart\n",
    "\n",
    "size_mapper = LinearInterpolator(     #this is to give size for each data point according to their population\n",
    "    x=[5, 15],\n",
    "    y = [3,5]\n",
    ")\n",
    "\n",
    "#to give color to each type of data point\n",
    "color_mapper = CategoricalColorMapper(\n",
    "   factors = list(stdf_city['Name'].unique()),  #this tells the compiler to color the continents\n",
    "  palette = Spectral11,)\n",
    "\n",
    "hover = HoverTool(tooltips = [(\"Employee Count\",\"@emp\"),(\"Profit\",\"@profit\"), (\"Revenue\",\"@y\"), (\"Cost Incurred\",\"@x\")], #when u hover mouse on data points\n",
    "                  show_arrow=False)\n",
    "\n",
    "\n",
    "\n",
    "PLOT_OPTS = dict(     #the dimensions of figure is given\n",
    "    height =450,\n",
    "    width = 750,\n",
    "    x_axis_type='log',\n",
    "    x_range=[1300, 30000],\n",
    "    y_range=(1500,30000)\n",
    ")\n",
    "\n",
    "\n",
    "p1 = figure( #how do u want the overall dimensions of fig\n",
    "    title = str('2013 October Cost Incurred vs Revenue'),toolbar_location='above',  #title should always be in string format\n",
    "    title_location = 'above',\n",
    "    tools=[hover],\n",
    "    **PLOT_OPTS)\n",
    "\n",
    "\n",
    "p1.circle(\n",
    "    x='x',y='y', #these have been wriiten before and is being called for the sake of hovering to work and is defined in update function\n",
    "    size={'field':'profit_scaled'},  #we cant use the size of data point as population as the china population is one billion and all the pixels gets filled and hence we use a mapper and give the rangee of X and y axis\n",
    "    color = {'field':'stores','transform':color_mapper}, #this will color all the regions defined by color_mapper\n",
    "    legend='stores', #a legend of which color is what continent\n",
    "    source=source,  #what is the data source\n",
    "    alpha=0.9) #how much of transparency of data pojint\n",
    "\n",
    "p1.legend.border_line_color = None  #to remove the border\n",
    "p1.legend.location = (10,0)  #this is going to take legend out of the chart box\n",
    "p1.right.append(p1.legend[0]) #this is going to place the legend to the right\n",
    "show(p1, notebook_handle=True) #notebook_handle will take the consideration of viewing each year that we defined in update"
   ]
  },
  {
   "cell_type": "code",
   "execution_count": 50,
   "metadata": {
    "extensions": {
     "jupyter_dashboards": {
      "version": 1,
      "views": {
       "grid_default": {
        "col": 0,
        "height": 2,
        "hidden": false,
        "row": 5,
        "width": 3
       },
       "report_default": {}
      }
     }
    }
   },
   "outputs": [
    {
     "data": {
      "application/vnd.jupyter.widget-view+json": {
       "model_id": "edcd1b7cd8f94a4eab25ad994d79baa9"
      }
     },
     "metadata": {},
     "output_type": "display_data"
    },
    {
     "data": {
      "text/plain": [
       "<function __main__.update_m>"
      ]
     },
     "execution_count": 50,
     "metadata": {},
     "output_type": "execute_result"
    }
   ],
   "source": [
    "interact(update_m, month=(0,47,1))"
   ]
  },
  {
   "cell_type": "code",
   "execution_count": null,
   "metadata": {
    "collapsed": true,
    "extensions": {
     "jupyter_dashboards": {
      "version": 1,
      "views": {
       "grid_default": {
        "hidden": true
       },
       "report_default": {}
      }
     }
    }
   },
   "outputs": [],
   "source": []
  }
 ],
 "metadata": {
  "extensions": {
   "jupyter_dashboards": {
    "activeView": "grid_default",
    "version": 1,
    "views": {
     "grid_default": {
      "cellMargin": 10,
      "defaultCellHeight": 20,
      "maxColumns": 12,
      "name": "grid",
      "type": "grid"
     },
     "report_default": {
      "name": "report",
      "type": "report"
     }
    }
   }
  },
  "kernelspec": {
   "display_name": "Python 3",
   "language": "python",
   "name": "python3"
  },
  "language_info": {
   "codemirror_mode": {
    "name": "ipython",
    "version": 3
   },
   "file_extension": ".py",
   "mimetype": "text/x-python",
   "name": "python",
   "nbconvert_exporter": "python",
   "pygments_lexer": "ipython3",
   "version": "3.7.6"
  },
  "widgets": {
   "state": {
    "759d6355b6474e6badeadcdce042df1e": {
     "views": [
      {
       "cell_index": 9
      }
     ]
    }
   },
   "version": "1.2.0"
  }
 },
 "nbformat": 4,
 "nbformat_minor": 2
}
