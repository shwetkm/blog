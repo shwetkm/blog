{
 "cells": [
  {
   "cell_type": "markdown",
   "metadata": {
    "colab_type": "text",
    "id": "KPqFTlOiiiKv"
   },
   "source": [
    "## Pytorch Basics and Speed Comparisons with Numpy and GPU\n",
    "\n",
    "* Initialising, slicing, reshaping tensors\n",
    "* Numpy and PyTorch interfacing\n",
    "* GPU support for PyTorch + Enabling GPUs on Google Colab\n",
    "* Speed comparisons, Numpy -- PyTorch -- PyTorch on GPU\n",
    "* Autodiff concepts and application\n",
    "* Writing a basic learning loop using autograd"
   ]
  },
  {
   "cell_type": "code",
   "execution_count": 0,
   "metadata": {
    "colab": {},
    "colab_type": "code",
    "id": "j4wIFDnRakTz"
   },
   "outputs": [],
   "source": [
    "import torch\n",
    "import numpy as np\n",
    "import matplotlib.pyplot as plt"
   ]
  },
  {
   "cell_type": "markdown",
   "metadata": {
    "colab_type": "text",
    "id": "WJyLCI8PcPZq"
   },
   "source": [
    "### Initialise tensors"
   ]
  },
  {
   "cell_type": "code",
   "execution_count": 2,
   "metadata": {
    "colab": {
     "base_uri": "https://localhost:8080/",
     "height": 170
    },
    "colab_type": "code",
    "id": "NV2jveDIayX-",
    "outputId": "ccda1f60-ce3b-414f-90f6-8f06b33ea389"
   },
   "outputs": [
    {
     "name": "stdout",
     "output_type": "stream",
     "text": [
      "tensor([[1., 1.],\n",
      "        [1., 1.],\n",
      "        [1., 1.]])\n",
      "tensor([[0., 0.],\n",
      "        [0., 0.],\n",
      "        [0., 0.]])\n",
      "tensor([[0.2365, 0.3903],\n",
      "        [0.9967, 0.0030],\n",
      "        [0.5356, 0.1902]])\n"
     ]
    }
   ],
   "source": [
    "x = torch.ones(3, 2)\n",
    "print(x)\n",
    "x = torch.zeros(3, 2)\n",
    "print(x)\n",
    "x = torch.rand(3, 2)\n",
    "print(x)"
   ]
  },
  {
   "cell_type": "code",
   "execution_count": 3,
   "metadata": {
    "colab": {
     "base_uri": "https://localhost:8080/",
     "height": 119
    },
    "colab_type": "code",
    "id": "BuAQVNaPFN1P",
    "outputId": "2650da46-f346-4e2c-b264-018a26dc43bb"
   },
   "outputs": [
    {
     "name": "stdout",
     "output_type": "stream",
     "text": [
      "tensor([[5.1069e-36, 0.0000e+00],\n",
      "        [0.0000e+00, 0.0000e+00],\n",
      "        [0.0000e+00, 0.0000e+00]])\n",
      "tensor([[0., 0.],\n",
      "        [0., 0.],\n",
      "        [0., 0.]])\n"
     ]
    }
   ],
   "source": [
    "x = torch.empty(3, 2)\n",
    "print(x)\n",
    "y = torch.zeros_like(x)\n",
    "print(y)"
   ]
  },
  {
   "cell_type": "code",
   "execution_count": 4,
   "metadata": {
    "colab": {
     "base_uri": "https://localhost:8080/",
     "height": 34
    },
    "colab_type": "code",
    "id": "bWrOMr-hFbwo",
    "outputId": "a741faff-3b1b-4de5-a2e0-143bfc1e12c4"
   },
   "outputs": [
    {
     "name": "stdout",
     "output_type": "stream",
     "text": [
      "tensor([0.0000, 0.2500, 0.5000, 0.7500, 1.0000])\n"
     ]
    }
   ],
   "source": [
    "x = torch.linspace(0, 1, steps=5)\n",
    "print(x)"
   ]
  },
  {
   "cell_type": "code",
   "execution_count": 5,
   "metadata": {
    "colab": {
     "base_uri": "https://localhost:8080/",
     "height": 68
    },
    "colab_type": "code",
    "id": "l_QspfvYEtuB",
    "outputId": "fd8644a9-7f14-42f9-b297-5e5835e2ff96"
   },
   "outputs": [
    {
     "name": "stdout",
     "output_type": "stream",
     "text": [
      "tensor([[1, 2],\n",
      "        [3, 4],\n",
      "        [5, 6]])\n"
     ]
    }
   ],
   "source": [
    "x = torch.tensor([[1, 2], \n",
    "                 [3, 4], \n",
    "                 [5, 6]])\n",
    "print(x)"
   ]
  },
  {
   "cell_type": "markdown",
   "metadata": {
    "colab_type": "text",
    "id": "wKub-KJLcSDJ"
   },
   "source": [
    "### Slicing tensors"
   ]
  },
  {
   "cell_type": "code",
   "execution_count": 6,
   "metadata": {
    "colab": {
     "base_uri": "https://localhost:8080/",
     "height": 68
    },
    "colab_type": "code",
    "id": "UxSlfSVrbH8h",
    "outputId": "397f50b8-ef8a-40b3-d10d-e9c732b8ffb8"
   },
   "outputs": [
    {
     "name": "stdout",
     "output_type": "stream",
     "text": [
      "torch.Size([3, 2])\n",
      "tensor([2, 4, 6])\n",
      "tensor([1, 2])\n"
     ]
    }
   ],
   "source": [
    "print(x.size())\n",
    "print(x[:, 1]) \n",
    "print(x[0, :]) "
   ]
  },
  {
   "cell_type": "code",
   "execution_count": 7,
   "metadata": {
    "colab": {
     "base_uri": "https://localhost:8080/",
     "height": 51
    },
    "colab_type": "code",
    "id": "AGWkj2utcrz9",
    "outputId": "5ceb4e09-bb32-4c83-fc7e-bcb75af2521d"
   },
   "outputs": [
    {
     "name": "stdout",
     "output_type": "stream",
     "text": [
      "tensor(4)\n",
      "4\n"
     ]
    }
   ],
   "source": [
    "y = x[1, 1]\n",
    "print(y)\n",
    "print(y.item())"
   ]
  },
  {
   "cell_type": "markdown",
   "metadata": {
    "colab_type": "text",
    "id": "6YvWGrX0cUpf"
   },
   "source": [
    "### Reshaping tensors"
   ]
  },
  {
   "cell_type": "code",
   "execution_count": 8,
   "metadata": {
    "colab": {
     "base_uri": "https://localhost:8080/",
     "height": 102
    },
    "colab_type": "code",
    "id": "mn1q-Hm7b6hP",
    "outputId": "a748687b-ae2f-4a9f-a4e0-5a7d6d5f91c3"
   },
   "outputs": [
    {
     "name": "stdout",
     "output_type": "stream",
     "text": [
      "tensor([[1, 2],\n",
      "        [3, 4],\n",
      "        [5, 6]])\n",
      "tensor([[1, 2, 3],\n",
      "        [4, 5, 6]])\n"
     ]
    }
   ],
   "source": [
    "print(x)\n",
    "y = x.view(2, 3)\n",
    "print(y)"
   ]
  },
  {
   "cell_type": "code",
   "execution_count": 9,
   "metadata": {
    "colab": {
     "base_uri": "https://localhost:8080/",
     "height": 119
    },
    "colab_type": "code",
    "id": "1EbIwPvBF4Lg",
    "outputId": "2ce7fa05-ac92-43a5-c07c-cb95f98a46cc"
   },
   "outputs": [
    {
     "name": "stdout",
     "output_type": "stream",
     "text": [
      "tensor([[1],\n",
      "        [2],\n",
      "        [3],\n",
      "        [4],\n",
      "        [5],\n",
      "        [6]])\n"
     ]
    }
   ],
   "source": [
    "y = x.view(6,-1) \n",
    "print(y)"
   ]
  },
  {
   "cell_type": "markdown",
   "metadata": {
    "colab_type": "text",
    "id": "2XxOq0ObdXEC"
   },
   "source": [
    "### Simple Tensor Operations"
   ]
  },
  {
   "cell_type": "code",
   "execution_count": 10,
   "metadata": {
    "colab": {
     "base_uri": "https://localhost:8080/",
     "height": 170
    },
    "colab_type": "code",
    "id": "Rv4jjqBVdIB2",
    "outputId": "b93dba81-59b6-4410-bca8-41633103e023"
   },
   "outputs": [
    {
     "name": "stdout",
     "output_type": "stream",
     "text": [
      "tensor([[2., 2.],\n",
      "        [2., 2.],\n",
      "        [2., 2.]])\n",
      "tensor([[0., 0.],\n",
      "        [0., 0.],\n",
      "        [0., 0.]])\n",
      "tensor([[1., 1.],\n",
      "        [1., 1.],\n",
      "        [1., 1.]])\n"
     ]
    }
   ],
   "source": [
    "x = torch.ones([3, 2])\n",
    "y = torch.ones([3, 2])\n",
    "z = x + y\n",
    "print(z)\n",
    "z = x - y\n",
    "print(z)\n",
    "z = x * y\n",
    "print(z)"
   ]
  },
  {
   "cell_type": "code",
   "execution_count": 11,
   "metadata": {
    "colab": {
     "base_uri": "https://localhost:8080/",
     "height": 119
    },
    "colab_type": "code",
    "id": "dVHnXB78dl8s",
    "outputId": "fc97eec7-fe64-43d3-bd9b-15d69853c7f4"
   },
   "outputs": [
    {
     "name": "stdout",
     "output_type": "stream",
     "text": [
      "tensor([[2., 2.],\n",
      "        [2., 2.],\n",
      "        [2., 2.]])\n",
      "tensor([[1., 1.],\n",
      "        [1., 1.],\n",
      "        [1., 1.]])\n"
     ]
    }
   ],
   "source": [
    "z = y.add(x)\n",
    "print(z)\n",
    "print(y)"
   ]
  },
  {
   "cell_type": "code",
   "execution_count": 12,
   "metadata": {
    "colab": {
     "base_uri": "https://localhost:8080/",
     "height": 119
    },
    "colab_type": "code",
    "id": "LewBBuz_eL1m",
    "outputId": "fb5043a7-e9ae-4730-9c32-c512d372cf0a"
   },
   "outputs": [
    {
     "name": "stdout",
     "output_type": "stream",
     "text": [
      "tensor([[2., 2.],\n",
      "        [2., 2.],\n",
      "        [2., 2.]])\n",
      "tensor([[2., 2.],\n",
      "        [2., 2.],\n",
      "        [2., 2.]])\n"
     ]
    }
   ],
   "source": [
    "z = y.add_(x)\n",
    "print(z)\n",
    "print(y)"
   ]
  },
  {
   "cell_type": "markdown",
   "metadata": {
    "colab_type": "text",
    "id": "PDuBSdzTc2Bq"
   },
   "source": [
    "### Numpy vs PyTorch"
   ]
  },
  {
   "cell_type": "code",
   "execution_count": 13,
   "metadata": {
    "colab": {
     "base_uri": "https://localhost:8080/",
     "height": 85
    },
    "colab_type": "code",
    "id": "NlvqO8_1ccML",
    "outputId": "9b5a76b3-5b1c-4928-bd4b-a786c0840ccc"
   },
   "outputs": [
    {
     "name": "stdout",
     "output_type": "stream",
     "text": [
      "<class 'torch.Tensor'> <class 'numpy.ndarray'>\n",
      "[[1. 1.]\n",
      " [1. 1.]\n",
      " [1. 1.]]\n"
     ]
    }
   ],
   "source": [
    "x_np = x.numpy()\n",
    "print(type(x), type(x_np))\n",
    "print(x_np)"
   ]
  },
  {
   "cell_type": "markdown",
   "metadata": {
    "colab_type": "text",
    "id": "XuIGJUPPWzS2"
   },
   "source": [
    "### Convert Numpy array to Torch tensor"
   ]
  },
  {
   "cell_type": "code",
   "execution_count": 14,
   "metadata": {
    "colab": {
     "base_uri": "https://localhost:8080/",
     "height": 68
    },
    "colab_type": "code",
    "id": "tLhS3Hrmc-M2",
    "outputId": "fcbbbacb-b861-4fb6-a767-a32ca4f6908f"
   },
   "outputs": [
    {
     "name": "stdout",
     "output_type": "stream",
     "text": [
      "[-0.22648217  2.33063636 -2.35281499  1.52592661  0.05184195]\n",
      "<class 'numpy.ndarray'> <class 'torch.Tensor'>\n",
      "tensor([-0.2265,  2.3306, -2.3528,  1.5259,  0.0518], dtype=torch.float64)\n"
     ]
    }
   ],
   "source": [
    "a = np.random.randn(5)\n",
    "print(a)\n",
    "a_pt = torch.from_numpy(a)\n",
    "print(type(a), type(a_pt))\n",
    "print(a_pt)"
   ]
  },
  {
   "cell_type": "code",
   "execution_count": 15,
   "metadata": {
    "colab": {
     "base_uri": "https://localhost:8080/",
     "height": 51
    },
    "colab_type": "code",
    "id": "kwZhRYVtdp-X",
    "outputId": "a45f8078-783d-4220-e526-aefc97d10dd3"
   },
   "outputs": [
    {
     "name": "stdout",
     "output_type": "stream",
     "text": [
      "[ 0.77351783  3.33063636 -1.35281499  2.52592661  1.05184195]\n",
      "tensor([ 0.7735,  3.3306, -1.3528,  2.5259,  1.0518], dtype=torch.float64)\n"
     ]
    }
   ],
   "source": [
    "np.add(a, 1, out=a)\n",
    "print(a)\n",
    "print(a_pt) "
   ]
  },
  {
   "cell_type": "markdown",
   "metadata": {
    "colab_type": "text",
    "id": "Mi1TrtgEW-8M"
   },
   "source": [
    "### Speed Comparison b/w Numpy and Torch on CPU"
   ]
  },
  {
   "cell_type": "code",
   "execution_count": 16,
   "metadata": {
    "colab": {
     "base_uri": "https://localhost:8080/",
     "height": 51
    },
    "colab_type": "code",
    "id": "6z-Mhf2hewcU",
    "outputId": "6c410f3a-3d1f-4cfc-b821-c8f299a565be"
   },
   "outputs": [
    {
     "name": "stdout",
     "output_type": "stream",
     "text": [
      "CPU times: user 161 ms, sys: 117 ms, total: 278 ms\n",
      "Wall time: 158 ms\n"
     ]
    }
   ],
   "source": [
    "%%time\n",
    "for i in range(100):\n",
    "  a = np.random.randn(100,100)\n",
    "  b = np.random.randn(100,100)\n",
    "  c = np.matmul(a, b)"
   ]
  },
  {
   "cell_type": "code",
   "execution_count": 18,
   "metadata": {
    "colab": {
     "base_uri": "https://localhost:8080/",
     "height": 51
    },
    "colab_type": "code",
    "id": "aFzIX2qge3x9",
    "outputId": "cde9a17c-470a-4d71-fbeb-57a4264662ee"
   },
   "outputs": [
    {
     "name": "stdout",
     "output_type": "stream",
     "text": [
      "CPU times: user 32.2 ms, sys: 1.93 ms, total: 34.1 ms\n",
      "Wall time: 36.3 ms\n"
     ]
    }
   ],
   "source": [
    "%%time\n",
    "for i in range(100):\n",
    "  a = torch.randn([100, 100])\n",
    "  b = torch.randn([100, 100])\n",
    "  c = torch.matmul(a, b)"
   ]
  },
  {
   "cell_type": "code",
   "execution_count": 19,
   "metadata": {
    "colab": {
     "base_uri": "https://localhost:8080/",
     "height": 51
    },
    "colab_type": "code",
    "id": "Pdat0Hnm6hGA",
    "outputId": "84578d24-6774-4d42-d8be-64b1444d2748"
   },
   "outputs": [
    {
     "name": "stdout",
     "output_type": "stream",
     "text": [
      "CPU times: user 1min 36s, sys: 1.35 s, total: 1min 37s\n",
      "Wall time: 1min 37s\n"
     ]
    }
   ],
   "source": [
    "%%time\n",
    "for i in range(10):\n",
    "  a = np.random.randn(10000,10000)\n",
    "  b = np.random.randn(10000,10000)\n",
    "  c = a + b"
   ]
  },
  {
   "cell_type": "code",
   "execution_count": 20,
   "metadata": {
    "colab": {
     "base_uri": "https://localhost:8080/",
     "height": 51
    },
    "colab_type": "code",
    "id": "XlRx5OKl6kEq",
    "outputId": "3e02e9b9-6f29-400f-d59d-36e712b6c3d3"
   },
   "outputs": [
    {
     "name": "stdout",
     "output_type": "stream",
     "text": [
      "CPU times: user 16 s, sys: 9.8 ms, total: 16 s\n",
      "Wall time: 16 s\n"
     ]
    }
   ],
   "source": [
    "%%time\n",
    "for i in range(10):\n",
    "  a = torch.randn([10000, 10000])\n",
    "  b = torch.randn([10000, 10000])\n",
    "  c = a + b"
   ]
  },
  {
   "cell_type": "markdown",
   "metadata": {
    "colab_type": "text",
    "id": "PFmtS2DOXonA"
   },
   "source": [
    "We can see that Pytorch on CPU is around 4-5 times faster than Numpy"
   ]
  },
  {
   "cell_type": "markdown",
   "metadata": {
    "colab_type": "text",
    "id": "de5YwtfUgMWO"
   },
   "source": [
    "### CUDA support"
   ]
  },
  {
   "cell_type": "code",
   "execution_count": 2,
   "metadata": {
    "colab": {
     "base_uri": "https://localhost:8080/",
     "height": 34
    },
    "colab_type": "code",
    "id": "-nI4nYcWgY1B",
    "outputId": "cae835ef-9cc5-49e8-cc01-24ba52db1e16"
   },
   "outputs": [
    {
     "name": "stdout",
     "output_type": "stream",
     "text": [
      "1\n"
     ]
    }
   ],
   "source": [
    "print(torch.cuda.device_count())"
   ]
  },
  {
   "cell_type": "code",
   "execution_count": 3,
   "metadata": {
    "colab": {
     "base_uri": "https://localhost:8080/",
     "height": 51
    },
    "colab_type": "code",
    "id": "_3E-PMC1gfKU",
    "outputId": "af206559-2f27-4104-dcb8-6f5bc2f565ee"
   },
   "outputs": [
    {
     "name": "stdout",
     "output_type": "stream",
     "text": [
      "<torch.cuda.device object at 0x7f7ed42ee390>\n",
      "Tesla K80\n"
     ]
    }
   ],
   "source": [
    "print(torch.cuda.device(0))\n",
    "print(torch.cuda.get_device_name(0))"
   ]
  },
  {
   "cell_type": "markdown",
   "metadata": {
    "colab_type": "text",
    "id": "VBX_8QX-YO7G"
   },
   "source": [
    "We have Tesla K80 GPU running on this notebook. To know more about this GPU and its performance refer to this <a href='https://www.nvidia.com/en-gb/data-center/tesla-k80/'>link</a>."
   ]
  },
  {
   "cell_type": "code",
   "execution_count": 0,
   "metadata": {
    "colab": {},
    "colab_type": "code",
    "id": "_eZYxVpMgor4"
   },
   "outputs": [],
   "source": [
    "cuda0 = torch.device('cuda:0')"
   ]
  },
  {
   "cell_type": "code",
   "execution_count": 5,
   "metadata": {
    "colab": {
     "base_uri": "https://localhost:8080/",
     "height": 68
    },
    "colab_type": "code",
    "id": "j1r7y57x9JZU",
    "outputId": "a1287fab-ae78-4b48-91ae-ba0f37154bed"
   },
   "outputs": [
    {
     "name": "stdout",
     "output_type": "stream",
     "text": [
      "tensor([[2., 2.],\n",
      "        [2., 2.],\n",
      "        [2., 2.]], device='cuda:0')\n"
     ]
    }
   ],
   "source": [
    "a = torch.ones(3, 2, device=cuda0)\n",
    "b = torch.ones(3, 2, device=cuda0)\n",
    "c = a + b\n",
    "print(c)"
   ]
  },
  {
   "cell_type": "code",
   "execution_count": 6,
   "metadata": {
    "colab": {
     "base_uri": "https://localhost:8080/",
     "height": 68
    },
    "colab_type": "code",
    "id": "wSt3W1s-_Gc3",
    "outputId": "2005af85-e8b0-4f1f-8dc8-2ef7507cee82"
   },
   "outputs": [
    {
     "name": "stdout",
     "output_type": "stream",
     "text": [
      "tensor([[1., 1.],\n",
      "        [1., 1.],\n",
      "        [1., 1.]], device='cuda:0')\n"
     ]
    }
   ],
   "source": [
    "print(a)"
   ]
  },
  {
   "cell_type": "code",
   "execution_count": 9,
   "metadata": {
    "colab": {
     "base_uri": "https://localhost:8080/",
     "height": 51
    },
    "colab_type": "code",
    "id": "FqSYioGrgyMI",
    "outputId": "c5bafa2d-f05e-43ea-ba86-9a38aa179835"
   },
   "outputs": [
    {
     "name": "stdout",
     "output_type": "stream",
     "text": [
      "CPU times: user 3.19 ms, sys: 1.02 ms, total: 4.22 ms\n",
      "Wall time: 6.16 ms\n"
     ]
    }
   ],
   "source": [
    "%%time\n",
    "for i in range(10):\n",
    "  a = torch.randn([10000, 10000], device=cuda0)\n",
    "  b = torch.randn([10000, 10000], device=cuda0)\n",
    "  c = a + b"
   ]
  },
  {
   "cell_type": "markdown",
   "metadata": {
    "colab_type": "text",
    "id": "PhXOg15DZZ3b"
   },
   "source": [
    "We see drastic improvement in the performance on GPU. It is almost 800 times faster that pytorch on CPU and around 5000 times faster than Numpy."
   ]
  },
  {
   "cell_type": "markdown",
   "metadata": {
    "colab_type": "text",
    "id": "P_6TU64Gi7jv"
   },
   "source": [
    "### Autodiff in Pytorch\n",
    "Automatic differentiation (autodiff) refers to a general way of taking\n",
    "a program which computes a value, and automatically constructing a\n",
    "procedure for computing derivatives of that value."
   ]
  },
  {
   "cell_type": "code",
   "execution_count": 10,
   "metadata": {
    "colab": {
     "base_uri": "https://localhost:8080/",
     "height": 68
    },
    "colab_type": "code",
    "id": "PjySsLMThEX7",
    "outputId": "cd63cfeb-9fa3-48fa-b543-1dd8e5e92de8"
   },
   "outputs": [
    {
     "name": "stdout",
     "output_type": "stream",
     "text": [
      "tensor([[1., 1.],\n",
      "        [1., 1.],\n",
      "        [1., 1.]], requires_grad=True)\n"
     ]
    }
   ],
   "source": [
    "x = torch.ones([3, 2], requires_grad=True)\n",
    "print(x)"
   ]
  },
  {
   "cell_type": "markdown",
   "metadata": {
    "colab_type": "text",
    "id": "6RSQovrsaVmI"
   },
   "source": [
    "`requires_grad=True` is mandatory to tell Pytorch to do the book keeping of all the operations being performed with the data."
   ]
  },
  {
   "cell_type": "code",
   "execution_count": 11,
   "metadata": {
    "colab": {
     "base_uri": "https://localhost:8080/",
     "height": 68
    },
    "colab_type": "code",
    "id": "neb3oFWBjAtJ",
    "outputId": "c9bc36b2-9519-4ade-d64c-faef6b33225c"
   },
   "outputs": [
    {
     "name": "stdout",
     "output_type": "stream",
     "text": [
      "tensor([[6., 6.],\n",
      "        [6., 6.],\n",
      "        [6., 6.]], grad_fn=<AddBackward0>)\n"
     ]
    }
   ],
   "source": [
    "y = x + 5\n",
    "print(y)"
   ]
  },
  {
   "cell_type": "markdown",
   "metadata": {
    "colab_type": "text",
    "id": "lxVvyw_Fa2qj"
   },
   "source": [
    "Here, `grad_fn=<AddBackward0>` is the way of book keeping in Pytorch"
   ]
  },
  {
   "cell_type": "code",
   "execution_count": 12,
   "metadata": {
    "colab": {
     "base_uri": "https://localhost:8080/",
     "height": 68
    },
    "colab_type": "code",
    "id": "5M0pnstAjLa-",
    "outputId": "2f4a084a-9f04-4588-f24b-f990bcb0df7a"
   },
   "outputs": [
    {
     "name": "stdout",
     "output_type": "stream",
     "text": [
      "tensor([[37., 37.],\n",
      "        [37., 37.],\n",
      "        [37., 37.]], grad_fn=<AddBackward0>)\n"
     ]
    }
   ],
   "source": [
    "z = y*y + 1\n",
    "print(z)"
   ]
  },
  {
   "cell_type": "code",
   "execution_count": 13,
   "metadata": {
    "colab": {
     "base_uri": "https://localhost:8080/",
     "height": 34
    },
    "colab_type": "code",
    "id": "wHHDSmiUkMOw",
    "outputId": "dc2316ff-91c3-46c2-e532-e684da4530e5"
   },
   "outputs": [
    {
     "name": "stdout",
     "output_type": "stream",
     "text": [
      "tensor(222., grad_fn=<SumBackward0>)\n"
     ]
    }
   ],
   "source": [
    "t = torch.sum(z)\n",
    "print(t)"
   ]
  },
  {
   "cell_type": "code",
   "execution_count": 0,
   "metadata": {
    "colab": {},
    "colab_type": "code",
    "id": "AXj896azkM_S"
   },
   "outputs": [],
   "source": [
    "t.backward()"
   ]
  },
  {
   "cell_type": "code",
   "execution_count": 15,
   "metadata": {
    "colab": {
     "base_uri": "https://localhost:8080/",
     "height": 68
    },
    "colab_type": "code",
    "id": "wSYAcNN1lAWS",
    "outputId": "26811038-9b1e-4f24-d770-ccfa9bbcc5e5"
   },
   "outputs": [
    {
     "name": "stdout",
     "output_type": "stream",
     "text": [
      "tensor([[12., 12.],\n",
      "        [12., 12.],\n",
      "        [12., 12.]])\n"
     ]
    }
   ],
   "source": [
    "print(x.grad)"
   ]
  },
  {
   "cell_type": "markdown",
   "metadata": {
    "colab_type": "text",
    "id": "6nrD44oJiEIY"
   },
   "source": [
    "$t = \\sum_i z_i, z_i = y_i^2 + 1, y_i = x_i + 5$\n",
    "\n",
    "$\\frac{\\partial t}{\\partial x_i} = \\frac{\\partial z_i}{\\partial x_i} = \\frac{\\partial z_i}{\\partial y_i} \\frac{\\partial y_i}{\\partial x_i} = 2y_i \\times 1$\n",
    "\n",
    "\n",
    "At x = 1, y = 6, $\\frac{\\partial t}{\\partial x_i} = 12$"
   ]
  },
  {
   "cell_type": "code",
   "execution_count": 16,
   "metadata": {
    "colab": {
     "base_uri": "https://localhost:8080/",
     "height": 119
    },
    "colab_type": "code",
    "id": "ZFCWPPAP6ipv",
    "outputId": "6846590e-3495-4a7e-8cb9-43b1a9fd26dc"
   },
   "outputs": [
    {
     "name": "stdout",
     "output_type": "stream",
     "text": [
      "tensor([[0.9975, 0.9975],\n",
      "        [0.9975, 0.9975],\n",
      "        [0.9975, 0.9975]], grad_fn=<MulBackward0>)\n",
      "tensor([[0.0025, 0.0025],\n",
      "        [0.0025, 0.0025],\n",
      "        [0.0025, 0.0025]])\n"
     ]
    }
   ],
   "source": [
    "x = torch.ones([3, 2], requires_grad=True)\n",
    "y = x + 5\n",
    "r = 1/(1 + torch.exp(-y))\n",
    "print(r)\n",
    "s = torch.sum(r)\n",
    "s.backward()\n",
    "print(x.grad)"
   ]
  },
  {
   "cell_type": "code",
   "execution_count": 17,
   "metadata": {
    "colab": {
     "base_uri": "https://localhost:8080/",
     "height": 68
    },
    "colab_type": "code",
    "id": "Ts1wsONqlE5h",
    "outputId": "63fa6249-adca-4b66-a228-f1ae80ae4a32"
   },
   "outputs": [
    {
     "name": "stdout",
     "output_type": "stream",
     "text": [
      "tensor([[0.0025, 0.0025],\n",
      "        [0.0025, 0.0025],\n",
      "        [0.0025, 0.0025]])\n"
     ]
    }
   ],
   "source": [
    "x = torch.ones([3, 2], requires_grad=True)\n",
    "y = x + 5\n",
    "r = 1/(1 + torch.exp(-y))\n",
    "a = torch.ones([3, 2])\n",
    "r.backward(a)\n",
    "print(x.grad)"
   ]
  },
  {
   "cell_type": "markdown",
   "metadata": {
    "colab_type": "text",
    "id": "56AqY5hY77dx"
   },
   "source": [
    "$\\frac{\\partial{s}}{\\partial{x}} = \\frac{\\partial{s}}{\\partial{r}} \\cdot \\frac{\\partial{r}}{\\partial{x}}$\n",
    "\n",
    "For the above code $a$ represents $\\frac{\\partial{s}}{\\partial{r}}$ and then $x.grad$ gives directly $\\frac{\\partial{s}}{\\partial{x}}$\n",
    "\n"
   ]
  },
  {
   "cell_type": "markdown",
   "metadata": {
    "colab_type": "text",
    "id": "AKhxwdYUpUfj"
   },
   "source": [
    "### Autodiff example that looks like what we usually do in Deep Learning"
   ]
  },
  {
   "cell_type": "code",
   "execution_count": 0,
   "metadata": {
    "colab": {},
    "colab_type": "code",
    "id": "THNkQLR6mmpO"
   },
   "outputs": [],
   "source": [
    "x = torch.randn([20, 1], requires_grad=True)\n",
    "y = 3*x - 2"
   ]
  },
  {
   "cell_type": "code",
   "execution_count": 0,
   "metadata": {
    "colab": {},
    "colab_type": "code",
    "id": "-t4_8qgdnjDk"
   },
   "outputs": [],
   "source": [
    "w = torch.tensor([1.], requires_grad=True)\n",
    "b = torch.tensor([1.], requires_grad=True)\n",
    "\n",
    "y_hat = w*x + b\n",
    "\n",
    "loss = torch.sum((y_hat - y)**2)"
   ]
  },
  {
   "cell_type": "code",
   "execution_count": 20,
   "metadata": {
    "colab": {
     "base_uri": "https://localhost:8080/",
     "height": 34
    },
    "colab_type": "code",
    "id": "Gvpc37u-o6ob",
    "outputId": "cb1ac80b-fb0e-4cd3-e515-546a33f4eef3"
   },
   "outputs": [
    {
     "name": "stdout",
     "output_type": "stream",
     "text": [
      "tensor(237.3524, grad_fn=<SumBackward0>)\n"
     ]
    }
   ],
   "source": [
    "print(loss)"
   ]
  },
  {
   "cell_type": "code",
   "execution_count": 0,
   "metadata": {
    "colab": {},
    "colab_type": "code",
    "id": "-tnKq6DXo-RB"
   },
   "outputs": [],
   "source": [
    "loss.backward()"
   ]
  },
  {
   "cell_type": "code",
   "execution_count": 23,
   "metadata": {
    "colab": {
     "base_uri": "https://localhost:8080/",
     "height": 34
    },
    "colab_type": "code",
    "id": "I38qmZLhpM2F",
    "outputId": "1675caea-8123-4802-e557-ca1f2a64fad5"
   },
   "outputs": [
    {
     "name": "stdout",
     "output_type": "stream",
     "text": [
      "tensor([-63.6629]) tensor([115.7930])\n"
     ]
    }
   ],
   "source": [
    "print(w.grad, b.grad)"
   ]
  },
  {
   "cell_type": "markdown",
   "metadata": {
    "colab_type": "text",
    "id": "WfDV6saTq8XA"
   },
   "source": [
    "### Do it in a loop"
   ]
  },
  {
   "cell_type": "code",
   "execution_count": 24,
   "metadata": {
    "colab": {
     "base_uri": "https://localhost:8080/",
     "height": 204
    },
    "colab_type": "code",
    "id": "ivmJgJQTpN79",
    "outputId": "867630b5-a096-4479-e319-e508741b7ccf"
   },
   "outputs": [
    {
     "name": "stdout",
     "output_type": "stream",
     "text": [
      "1.0 1.0\n",
      "2.2244343757629395 -0.46036696434020996\n",
      "2.5868167877197266 -1.0856199264526367\n",
      "2.58056902885437 -1.3719744682312012\n",
      "2.7070467472076416 -1.6221551895141602\n",
      "2.808570146560669 -1.7485421895980835\n",
      "2.8510940074920654 -1.842361330986023\n",
      "2.863948106765747 -1.877304196357727\n",
      "2.9146628379821777 -1.9155502319335938\n",
      "2.9505720138549805 -1.9522515535354614\n",
      "2.9600718021392822 -1.9627878665924072\n"
     ]
    }
   ],
   "source": [
    "learning_rate = 0.01\n",
    "\n",
    "w = torch.tensor([1.], requires_grad=True)\n",
    "b = torch.tensor([1.], requires_grad=True)\n",
    "\n",
    "print(w.item(), b.item())\n",
    "\n",
    "for i in range(10):\n",
    "  \n",
    "  x = torch.randn([20, 1])\n",
    "  y = 3*x - 2\n",
    "  \n",
    "  y_hat = w*x + b\n",
    "  loss = torch.sum((y_hat - y)**2)\n",
    "  \n",
    "  loss.backward()\n",
    "  \n",
    "  with torch.no_grad():\n",
    "    w -= learning_rate * w.grad\n",
    "    b -= learning_rate * b.grad\n",
    "    \n",
    "    w.grad.zero_()\n",
    "    b.grad.zero_()\n",
    "\n",
    "  print(w.item(), b.item())\n",
    "  "
   ]
  },
  {
   "cell_type": "markdown",
   "metadata": {
    "colab_type": "text",
    "id": "X4ujfIxlbwpV"
   },
   "source": [
    "We can see that w is approaching towards 3 and b towards -2."
   ]
  },
  {
   "cell_type": "markdown",
   "metadata": {
    "colab_type": "text",
    "id": "vyOqrZZiuLkl"
   },
   "source": [
    "### Do it for a large problem"
   ]
  },
  {
   "cell_type": "code",
   "execution_count": 25,
   "metadata": {
    "colab": {
     "base_uri": "https://localhost:8080/",
     "height": 51
    },
    "colab_type": "code",
    "id": "qq3Iykk1rMfh",
    "outputId": "e67f251f-c127-4092-f72b-40dd0cd685cc"
   },
   "outputs": [
    {
     "name": "stdout",
     "output_type": "stream",
     "text": [
      "CPU times: user 32.2 s, sys: 86.4 ms, total: 32.2 s\n",
      "Wall time: 32.3 s\n"
     ]
    }
   ],
   "source": [
    "%%time\n",
    "learning_rate = 0.001\n",
    "N = 10000000\n",
    "epochs = 200\n",
    "\n",
    "w = torch.rand([N], requires_grad=True)\n",
    "b = torch.ones([1], requires_grad=True)\n",
    "\n",
    "# print(torch.mean(w).item(), b.item())\n",
    "\n",
    "for i in range(epochs):\n",
    "  \n",
    "  x = torch.randn([N])\n",
    "  y = torch.dot(3*torch.ones([N]), x) - 2\n",
    "  \n",
    "  y_hat = torch.dot(w, x) + b\n",
    "  loss = torch.sum((y_hat - y)**2)\n",
    "  \n",
    "  loss.backward()\n",
    "  \n",
    "  with torch.no_grad():\n",
    "    w -= learning_rate * w.grad\n",
    "    b -= learning_rate * b.grad\n",
    "    \n",
    "    w.grad.zero_()\n",
    "    b.grad.zero_()\n",
    "\n",
    "#   print(torch.mean(w).item(), b.item())\n",
    "  "
   ]
  },
  {
   "cell_type": "code",
   "execution_count": 28,
   "metadata": {
    "colab": {
     "base_uri": "https://localhost:8080/",
     "height": 51
    },
    "colab_type": "code",
    "id": "owaeEn4A01zF",
    "outputId": "b5015501-865b-40d7-cece-b1384bddbfff"
   },
   "outputs": [
    {
     "name": "stdout",
     "output_type": "stream",
     "text": [
      "CPU times: user 837 ms, sys: 492 ms, total: 1.33 s\n",
      "Wall time: 1.34 s\n"
     ]
    }
   ],
   "source": [
    "%%time\n",
    "learning_rate = 0.001\n",
    "N = 10000000\n",
    "epochs = 200\n",
    "\n",
    "w = torch.rand([N], requires_grad=True, device=cuda0)\n",
    "b = torch.ones([1], requires_grad=True, device=cuda0)\n",
    "\n",
    "# print(torch.mean(w).item(), b.item())\n",
    "\n",
    "for i in range(epochs):\n",
    "  \n",
    "  x = torch.randn([N], device=cuda0)\n",
    "  y = torch.dot(3*torch.ones([N], device=cuda0), x) - 2\n",
    "  \n",
    "  y_hat = torch.dot(w, x) + b\n",
    "  loss = torch.sum((y_hat - y)**2)\n",
    "  \n",
    "  loss.backward()\n",
    "  \n",
    "  with torch.no_grad():\n",
    "    w -= learning_rate * w.grad\n",
    "    b -= learning_rate * b.grad\n",
    "    \n",
    "    w.grad.zero_()\n",
    "    b.grad.zero_()\n",
    "\n",
    "  #print(torch.mean(w).item(), b.item())\n",
    "  "
   ]
  },
  {
   "cell_type": "markdown",
   "metadata": {
    "colab_type": "text",
    "id": "FOJP1yrEcS2Z"
   },
   "source": [
    "At last again some speed comparison b/w Pytorch on CPU vs GPU. On CPU it took 32.3 secs and on GPU, only 1.34 secs."
   ]
  },
  {
   "cell_type": "markdown",
   "metadata": {
    "colab_type": "text",
    "id": "O7nnAj9wcpon"
   },
   "source": [
    "References: I learnt these basics of Pytorch from https://www.guvi.in/"
   ]
  }
 ],
 "metadata": {
  "accelerator": "GPU",
  "colab": {
   "collapsed_sections": [],
   "name": "0420_PytorchIntro.ipynb",
   "provenance": []
  },
  "kernelspec": {
   "display_name": "Python 3",
   "language": "python",
   "name": "python3"
  },
  "language_info": {
   "codemirror_mode": {
    "name": "ipython",
    "version": 3
   },
   "file_extension": ".py",
   "mimetype": "text/x-python",
   "name": "python",
   "nbconvert_exporter": "python",
   "pygments_lexer": "ipython3",
   "version": "3.7.6"
  }
 },
 "nbformat": 4,
 "nbformat_minor": 1
}
